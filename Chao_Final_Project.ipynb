{
 "cells": [
  {
   "cell_type": "markdown",
   "metadata": {},
   "source": [
    "# The Effect of Playoff Wins on Personal Seat Licenses in the NFL\n",
    "\n",
    "#### Principal Investigator: Esther Chao <br> Email: [ec2635@stern.nyu.edu](ec2635@stern.nyu.edu)\n",
    "\n",
    "This project studies how on-field performance during the NFL post-season, specifically Superbowl wins, affect secondary market sales of NFL personal seat licenses (PSLs). PSLs are one-time fees that transfer stadium seat ownership rights from the team to the licensee, thus enabling the licensee to purchase season tickets. Teams only sell a fixed amount of seat licenses at face value. Since futher PSLs transactions take place on a secondary market, the effect of playoff wins on supply and demand is unclear. In order to meet increased demand, there must be a large group of fans willing to sell their own seat license rights.\n",
    "\n",
    "This study will focus on the quantity and prices of PSLs for eight NFL teams:\n",
    "* Baltimore Ravens\n",
    "* Chicago Bears\n",
    "* Cincinnati Bengals\n",
    "* Houston Texans\n",
    "* New York Giants\n",
    "* Philadephia Eagles\n",
    "* Pittsurgh Steelers\n",
    "* Seattle Seahawks\n",
    "\n",
    "Post-seasons after playoff appearances and Superbowl wins will be analyzed and compared to trends found within season and non-win post-seasons."
   ]
  },
  {
   "cell_type": "markdown",
   "metadata": {},
   "source": [
    "----\n",
    "\n",
    "## Data Cleaning\n",
    "\n",
    "**Overview:** My data comes from STR Marketplace, an online brokerage for PSLs. It uploads cumulative Excel spreadsheets each month with transaction-level details of sales transactions. Below I demonstrate I have the ability to access the data.\n",
    "\n",
    "**Requisite Packages:** Below I bring in the packages I need..."
   ]
  },
  {
   "cell_type": "code",
   "execution_count": 1,
   "metadata": {
    "collapsed": true
   },
   "outputs": [],
   "source": [
    "import pandas as pd\n",
    "from pandas_datareader import data\n",
    "import numpy as np \n",
    "import matplotlib.pyplot as plt\n",
    "import datetime as dt    "
   ]
  },
  {
   "cell_type": "markdown",
   "metadata": {},
   "source": [
    "**Grabbing the data:** Here are all eight URLs to the website's Excel spreadsheets."
   ]
  },
  {
   "cell_type": "code",
   "execution_count": 2,
   "metadata": {
    "collapsed": true
   },
   "outputs": [],
   "source": [
    "url_BAL = \"https://ravens.seasonticketrights.com/Images/Teams/BaltimoreRavens/SalesData/Baltimore-Ravens-Sales-Data-PSLs.xls\""
   ]
  },
  {
   "cell_type": "code",
   "execution_count": 3,
   "metadata": {
    "collapsed": true
   },
   "outputs": [],
   "source": [
    "url_CHI = \"https://bears.seasonticketrights.com/Images/Teams/ChicagoBears/SalesData/Chicago-Bears-Sales-Data.xls\""
   ]
  },
  {
   "cell_type": "code",
   "execution_count": 4,
   "metadata": {
    "collapsed": true
   },
   "outputs": [],
   "source": [
    "url_CIN = \"https://bengals.seasonticketrights.com/Images/Teams/CincinnatiBengals/SalesData/Cincinnati-Bengals-Sales-Data.xls\""
   ]
  },
  {
   "cell_type": "code",
   "execution_count": 5,
   "metadata": {
    "collapsed": true
   },
   "outputs": [],
   "source": [
    "url_HOU = \"https://texans.seasonticketrights.com/Images/Teams/HoustonTexans/SalesData/Houston-Texans-Sales-Data.xls\""
   ]
  },
  {
   "cell_type": "code",
   "execution_count": 6,
   "metadata": {
    "collapsed": true
   },
   "outputs": [],
   "source": [
    "url_NYG = \"https://nygiants.strmarketplace.com/Images/Teams/NewYorkGiants/SalesData/New-York-Giants-Sales-Data.xls\""
   ]
  },
  {
   "cell_type": "code",
   "execution_count": 7,
   "metadata": {
    "collapsed": true
   },
   "outputs": [],
   "source": [
    "url_PHI = \"https://manage.strmarketplace.com/Images/Teams/PhiladelphiaEagles/SalesData/Philadelphia-Eagles-Sales-Data-PSLs.xls\""
   ]
  },
  {
   "cell_type": "code",
   "execution_count": 8,
   "metadata": {
    "collapsed": true
   },
   "outputs": [],
   "source": [
    "url_PIT = \"https://steelers.strmarketplace.com/Images/Teams/PittsburghSteelers/SalesData/Pittsburgh-Steelers-Sales-Data.xls\""
   ]
  },
  {
   "cell_type": "code",
   "execution_count": 9,
   "metadata": {
    "collapsed": true
   },
   "outputs": [],
   "source": [
    "url_SEA = \"https://seahawks.strmarketplace.com/Images/Teams/SeattleSeahawks/SalesData/Seattle-Seahawks-Sales-Data.xls\""
   ]
  },
  {
   "cell_type": "markdown",
   "metadata": {
    "collapsed": true
   },
   "source": [
    "**Combining the Data:** Next I will read it all in, skipping the headers and making each consistent to merge into one cohesive sample."
   ]
  },
  {
   "cell_type": "code",
   "execution_count": 10,
   "metadata": {
    "collapsed": true
   },
   "outputs": [],
   "source": [
    "BAL = pd.read_excel(url_BAL,\n",
    "                    skiprows = 8) # This reads in each team's respective spreadsheet, ignoring the header."
   ]
  },
  {
   "cell_type": "code",
   "execution_count": 11,
   "metadata": {
    "collapsed": true
   },
   "outputs": [],
   "source": [
    "CHI = pd.read_excel(url_CHI,\n",
    "                    skiprows = 8)"
   ]
  },
  {
   "cell_type": "code",
   "execution_count": 12,
   "metadata": {
    "collapsed": true
   },
   "outputs": [],
   "source": [
    "CIN = pd.read_excel(url_CIN,\n",
    "                    skiprows = 8)"
   ]
  },
  {
   "cell_type": "code",
   "execution_count": 13,
   "metadata": {
    "collapsed": true
   },
   "outputs": [],
   "source": [
    "HOU = pd.read_excel(url_HOU,\n",
    "                    skiprows = 8)"
   ]
  },
  {
   "cell_type": "code",
   "execution_count": 14,
   "metadata": {
    "collapsed": true
   },
   "outputs": [],
   "source": [
    "NYG = pd.read_excel(url_NYG,\n",
    "                    skiprows = 8)"
   ]
  },
  {
   "cell_type": "code",
   "execution_count": 15,
   "metadata": {
    "collapsed": true
   },
   "outputs": [],
   "source": [
    "PHI = pd.read_excel(url_PHI,\n",
    "                    skiprows = 8)"
   ]
  },
  {
   "cell_type": "code",
   "execution_count": 16,
   "metadata": {
    "collapsed": true
   },
   "outputs": [],
   "source": [
    "PIT = pd.read_excel(url_PIT,\n",
    "                    skiprows = 8)"
   ]
  },
  {
   "cell_type": "code",
   "execution_count": 17,
   "metadata": {
    "collapsed": true
   },
   "outputs": [],
   "source": [
    "SEA = pd.read_excel(url_SEA,\n",
    "                    skiprows = 8)"
   ]
  },
  {
   "cell_type": "code",
   "execution_count": 18,
   "metadata": {
    "collapsed": true
   },
   "outputs": [],
   "source": [
    "CIN = CIN[[\"Date\", \"# Seats\", \"Seating Area\", \"Section\", \"Row\", \"Total Price\"]] # Four of our data sets require \n",
    "                                                                                # removing unnamed columns."
   ]
  },
  {
   "cell_type": "code",
   "execution_count": 19,
   "metadata": {
    "collapsed": true
   },
   "outputs": [],
   "source": [
    "NYG = NYG[[\"Date\", \"# Seats\", \"Seating Area\", \"Section\", \"Row\", \"Total Price\"]]"
   ]
  },
  {
   "cell_type": "code",
   "execution_count": 20,
   "metadata": {
    "collapsed": true
   },
   "outputs": [],
   "source": [
    "PHI = PHI[[\"Date\", \"# Seats\", \"Seating Area\", \"Section\", \"Row\", \"Total Price\"]]"
   ]
  },
  {
   "cell_type": "code",
   "execution_count": 21,
   "metadata": {
    "collapsed": true
   },
   "outputs": [],
   "source": [
    "SEA = SEA[[\"Date\", \"# Seats\", \"Seating Area\", \"Section\", \"Row\", \"Total Price\"]]"
   ]
  },
  {
   "cell_type": "code",
   "execution_count": 22,
   "metadata": {
    "collapsed": true
   },
   "outputs": [],
   "source": [
    "# I realized through working with this data in the past that Per Seat Price they give is not always correct.\n",
    "\n",
    "sublist = [BAL, CHI, HOU, PIT] # These are the four teams with an original Per Seat Price column uploaded.\n",
    "\n",
    "for team in sublist:\n",
    "    team.drop([\"Per Seat Price\"], axis = 1, inplace = True) # Drops the column"
   ]
  },
  {
   "cell_type": "code",
   "execution_count": 23,
   "metadata": {
    "collapsed": true
   },
   "outputs": [],
   "source": [
    "list = [BAL, CHI, CIN, HOU, NYG, PHI, PIT, SEA] # List of all the data sets\n",
    "\n",
    "for team in list:\n",
    "    team[\"Per Seat Price\"] = team[\"Total Price\"] / team[\"# Seats\"] # Creates a new column for Per Seat Price"
   ]
  },
  {
   "cell_type": "code",
   "execution_count": 24,
   "metadata": {
    "collapsed": true
   },
   "outputs": [],
   "source": [
    "for team in list:\n",
    "    team.set_index(\"Date\", inplace = True) # Sets date as the index"
   ]
  },
  {
   "cell_type": "code",
   "execution_count": 25,
   "metadata": {
    "collapsed": true
   },
   "outputs": [],
   "source": [
    "BAL[\"Team\"] = \"BAL\" # Adds a column for team identifiers so transactions within the large sample can still be attributed\n",
    "                    # to a team "
   ]
  },
  {
   "cell_type": "code",
   "execution_count": 26,
   "metadata": {
    "collapsed": true
   },
   "outputs": [],
   "source": [
    "CHI[\"Team\"] = \"CHI\""
   ]
  },
  {
   "cell_type": "code",
   "execution_count": 27,
   "metadata": {
    "collapsed": true
   },
   "outputs": [],
   "source": [
    "CIN[\"Team\"] = \"CIN\""
   ]
  },
  {
   "cell_type": "code",
   "execution_count": 28,
   "metadata": {
    "collapsed": true
   },
   "outputs": [],
   "source": [
    "HOU[\"Team\"] = \"HOU\""
   ]
  },
  {
   "cell_type": "code",
   "execution_count": 29,
   "metadata": {
    "collapsed": true
   },
   "outputs": [],
   "source": [
    "NYG[\"Team\"] = \"NYG\""
   ]
  },
  {
   "cell_type": "code",
   "execution_count": 30,
   "metadata": {
    "collapsed": true
   },
   "outputs": [],
   "source": [
    "PHI[\"Team\"] = \"PHI\""
   ]
  },
  {
   "cell_type": "code",
   "execution_count": 31,
   "metadata": {
    "collapsed": true
   },
   "outputs": [],
   "source": [
    "PIT[\"Team\"] = \"PIT\""
   ]
  },
  {
   "cell_type": "code",
   "execution_count": 32,
   "metadata": {
    "collapsed": true
   },
   "outputs": [],
   "source": [
    "SEA[\"Team\"] = \"SEA\""
   ]
  },
  {
   "cell_type": "code",
   "execution_count": 33,
   "metadata": {},
   "outputs": [
    {
     "data": {
      "text/html": [
       "<div>\n",
       "<style scoped>\n",
       "    .dataframe tbody tr th:only-of-type {\n",
       "        vertical-align: middle;\n",
       "    }\n",
       "\n",
       "    .dataframe tbody tr th {\n",
       "        vertical-align: top;\n",
       "    }\n",
       "\n",
       "    .dataframe thead th {\n",
       "        text-align: right;\n",
       "    }\n",
       "</style>\n",
       "<table border=\"1\" class=\"dataframe\">\n",
       "  <thead>\n",
       "    <tr style=\"text-align: right;\">\n",
       "      <th></th>\n",
       "      <th># Seats</th>\n",
       "      <th>Seating Area</th>\n",
       "      <th>Section</th>\n",
       "      <th>Row</th>\n",
       "      <th>Total Price</th>\n",
       "      <th>Per Seat Price</th>\n",
       "      <th>Team</th>\n",
       "    </tr>\n",
       "    <tr>\n",
       "      <th>Date</th>\n",
       "      <th></th>\n",
       "      <th></th>\n",
       "      <th></th>\n",
       "      <th></th>\n",
       "      <th></th>\n",
       "      <th></th>\n",
       "      <th></th>\n",
       "    </tr>\n",
       "  </thead>\n",
       "  <tbody>\n",
       "    <tr>\n",
       "      <th>2007-05-18</th>\n",
       "      <td>2</td>\n",
       "      <td>Lower Level End Zone (C)</td>\n",
       "      <td>112</td>\n",
       "      <td>15</td>\n",
       "      <td>11000</td>\n",
       "      <td>5500.0</td>\n",
       "      <td>BAL</td>\n",
       "    </tr>\n",
       "    <tr>\n",
       "      <th>2007-05-22</th>\n",
       "      <td>2</td>\n",
       "      <td>Club Level III Corner</td>\n",
       "      <td>222</td>\n",
       "      <td>9</td>\n",
       "      <td>10000</td>\n",
       "      <td>5000.0</td>\n",
       "      <td>BAL</td>\n",
       "    </tr>\n",
       "    <tr>\n",
       "      <th>2007-05-22</th>\n",
       "      <td>2</td>\n",
       "      <td>Club Level III Corner</td>\n",
       "      <td>220</td>\n",
       "      <td>11</td>\n",
       "      <td>8500</td>\n",
       "      <td>4250.0</td>\n",
       "      <td>BAL</td>\n",
       "    </tr>\n",
       "    <tr>\n",
       "      <th>2007-05-22</th>\n",
       "      <td>1</td>\n",
       "      <td>Club Level IV End Zone</td>\n",
       "      <td>208</td>\n",
       "      <td>11</td>\n",
       "      <td>3000</td>\n",
       "      <td>3000.0</td>\n",
       "      <td>BAL</td>\n",
       "    </tr>\n",
       "    <tr>\n",
       "      <th>2007-05-22</th>\n",
       "      <td>4</td>\n",
       "      <td>Lower Level Sideline (B)</td>\n",
       "      <td>102</td>\n",
       "      <td>6</td>\n",
       "      <td>40000</td>\n",
       "      <td>10000.0</td>\n",
       "      <td>BAL</td>\n",
       "    </tr>\n",
       "  </tbody>\n",
       "</table>\n",
       "</div>"
      ],
      "text/plain": [
       "            # Seats              Seating Area Section Row  Total Price  \\\n",
       "Date                                                                     \n",
       "2007-05-18        2  Lower Level End Zone (C)     112  15        11000   \n",
       "2007-05-22        2     Club Level III Corner     222   9        10000   \n",
       "2007-05-22        2     Club Level III Corner     220  11         8500   \n",
       "2007-05-22        1    Club Level IV End Zone     208  11         3000   \n",
       "2007-05-22        4  Lower Level Sideline (B)     102   6        40000   \n",
       "\n",
       "            Per Seat Price Team  \n",
       "Date                             \n",
       "2007-05-18          5500.0  BAL  \n",
       "2007-05-22          5000.0  BAL  \n",
       "2007-05-22          4250.0  BAL  \n",
       "2007-05-22          3000.0  BAL  \n",
       "2007-05-22         10000.0  BAL  "
      ]
     },
     "execution_count": 33,
     "metadata": {},
     "output_type": "execute_result"
    }
   ],
   "source": [
    "ALL = BAL.append([CHI, CIN, HOU, NYG, PHI, PIT, SEA]) # Merges the eight data sets into one big sample\n",
    "\n",
    "ALL.head() # Just checking the column headers"
   ]
  },
  {
   "cell_type": "code",
   "execution_count": 34,
   "metadata": {},
   "outputs": [
    {
     "data": {
      "text/plain": [
       "(14395, 7)"
      ]
     },
     "execution_count": 34,
     "metadata": {},
     "output_type": "execute_result"
    }
   ],
   "source": [
    "ALL.shape # The final sample we are working with contains 14,395 transactions across eight teams."
   ]
  },
  {
   "cell_type": "markdown",
   "metadata": {},
   "source": [
    "**Segmenting the Data:** Next, because we're interested in post-season performance, we must separate the final sample into seasons and off-seasons."
   ]
  },
  {
   "cell_type": "code",
   "execution_count": 35,
   "metadata": {
    "collapsed": true
   },
   "outputs": [],
   "source": [
    "offseason07 = ALL[(ALL.index < '2007-09-06')] # This means every transaction before 9-6-07 belongs to the 2007 Offseason."
   ]
  },
  {
   "cell_type": "code",
   "execution_count": 36,
   "metadata": {
    "scrolled": true
   },
   "outputs": [
    {
     "name": "stderr",
     "output_type": "stream",
     "text": [
      "C:\\Users\\Esther Chao\\Anaconda3\\lib\\site-packages\\ipykernel_launcher.py:1: SettingWithCopyWarning: \n",
      "A value is trying to be set on a copy of a slice from a DataFrame.\n",
      "Try using .loc[row_indexer,col_indexer] = value instead\n",
      "\n",
      "See the caveats in the documentation: http://pandas.pydata.org/pandas-docs/stable/indexing.html#indexing-view-versus-copy\n",
      "  \"\"\"Entry point for launching an IPython kernel.\n"
     ]
    }
   ],
   "source": [
    "offseason07[\"Category\"] = \"2007 Offseason\" # This assigns a season identifier to the transactions."
   ]
  },
  {
   "cell_type": "code",
   "execution_count": 37,
   "metadata": {},
   "outputs": [
    {
     "name": "stderr",
     "output_type": "stream",
     "text": [
      "C:\\Users\\Esther Chao\\Anaconda3\\lib\\site-packages\\ipykernel_launcher.py:1: SettingWithCopyWarning: \n",
      "A value is trying to be set on a copy of a slice from a DataFrame.\n",
      "Try using .loc[row_indexer,col_indexer] = value instead\n",
      "\n",
      "See the caveats in the documentation: http://pandas.pydata.org/pandas-docs/stable/indexing.html#indexing-view-versus-copy\n",
      "  \"\"\"Entry point for launching an IPython kernel.\n"
     ]
    }
   ],
   "source": [
    "offseason07[\"InorOff\"] = \"Offseason\" # This assigns an identifier as to whether this is inseason or offseason."
   ]
  },
  {
   "cell_type": "code",
   "execution_count": 38,
   "metadata": {
    "collapsed": true
   },
   "outputs": [],
   "source": [
    "season07 = ALL[(ALL.index >= '2007-09-06') & (ALL.index <= '2008-02-03')] # This means every transaction between 9-6-07 and\n",
    "                                                                            # 2-3-08 belongs to the 2007 Season, including\n",
    "                                                                            # the given dates, which were start of season and\n",
    "                                                                            # the Superbowl."
   ]
  },
  {
   "cell_type": "code",
   "execution_count": 39,
   "metadata": {},
   "outputs": [
    {
     "name": "stderr",
     "output_type": "stream",
     "text": [
      "C:\\Users\\Esther Chao\\Anaconda3\\lib\\site-packages\\ipykernel_launcher.py:1: SettingWithCopyWarning: \n",
      "A value is trying to be set on a copy of a slice from a DataFrame.\n",
      "Try using .loc[row_indexer,col_indexer] = value instead\n",
      "\n",
      "See the caveats in the documentation: http://pandas.pydata.org/pandas-docs/stable/indexing.html#indexing-view-versus-copy\n",
      "  \"\"\"Entry point for launching an IPython kernel.\n"
     ]
    }
   ],
   "source": [
    "season07[\"Category\"] = \"2007 Season\" # Again, this assigns aseason identifier to the transactions."
   ]
  },
  {
   "cell_type": "code",
   "execution_count": 40,
   "metadata": {},
   "outputs": [
    {
     "name": "stderr",
     "output_type": "stream",
     "text": [
      "C:\\Users\\Esther Chao\\Anaconda3\\lib\\site-packages\\ipykernel_launcher.py:1: SettingWithCopyWarning: \n",
      "A value is trying to be set on a copy of a slice from a DataFrame.\n",
      "Try using .loc[row_indexer,col_indexer] = value instead\n",
      "\n",
      "See the caveats in the documentation: http://pandas.pydata.org/pandas-docs/stable/indexing.html#indexing-view-versus-copy\n",
      "  \"\"\"Entry point for launching an IPython kernel.\n"
     ]
    }
   ],
   "source": [
    "season07[\"InorOff\"] = \"In-Season\" # Again, this assigns an identifier as to whether this is inseason or offseason."
   ]
  },
  {
   "cell_type": "code",
   "execution_count": 41,
   "metadata": {
    "collapsed": true
   },
   "outputs": [],
   "source": [
    "offseason08 = ALL[(ALL.index > '2008-02-03') & (ALL.index < '2008-09-04')] # We repeat the above process until present day."
   ]
  },
  {
   "cell_type": "code",
   "execution_count": 42,
   "metadata": {
    "scrolled": true
   },
   "outputs": [
    {
     "name": "stderr",
     "output_type": "stream",
     "text": [
      "C:\\Users\\Esther Chao\\Anaconda3\\lib\\site-packages\\ipykernel_launcher.py:1: SettingWithCopyWarning: \n",
      "A value is trying to be set on a copy of a slice from a DataFrame.\n",
      "Try using .loc[row_indexer,col_indexer] = value instead\n",
      "\n",
      "See the caveats in the documentation: http://pandas.pydata.org/pandas-docs/stable/indexing.html#indexing-view-versus-copy\n",
      "  \"\"\"Entry point for launching an IPython kernel.\n"
     ]
    }
   ],
   "source": [
    "offseason08[\"Category\"] = \"2008 Offseason\""
   ]
  },
  {
   "cell_type": "code",
   "execution_count": 43,
   "metadata": {},
   "outputs": [
    {
     "name": "stderr",
     "output_type": "stream",
     "text": [
      "C:\\Users\\Esther Chao\\Anaconda3\\lib\\site-packages\\ipykernel_launcher.py:1: SettingWithCopyWarning: \n",
      "A value is trying to be set on a copy of a slice from a DataFrame.\n",
      "Try using .loc[row_indexer,col_indexer] = value instead\n",
      "\n",
      "See the caveats in the documentation: http://pandas.pydata.org/pandas-docs/stable/indexing.html#indexing-view-versus-copy\n",
      "  \"\"\"Entry point for launching an IPython kernel.\n"
     ]
    }
   ],
   "source": [
    "offseason08[\"InorOff\"] = \"Offseason\""
   ]
  },
  {
   "cell_type": "code",
   "execution_count": 44,
   "metadata": {
    "collapsed": true
   },
   "outputs": [],
   "source": [
    "season08 = ALL[(ALL.index >= '2008-09-04') & (ALL.index <= '2009-02-01')]"
   ]
  },
  {
   "cell_type": "code",
   "execution_count": 45,
   "metadata": {},
   "outputs": [
    {
     "name": "stderr",
     "output_type": "stream",
     "text": [
      "C:\\Users\\Esther Chao\\Anaconda3\\lib\\site-packages\\ipykernel_launcher.py:1: SettingWithCopyWarning: \n",
      "A value is trying to be set on a copy of a slice from a DataFrame.\n",
      "Try using .loc[row_indexer,col_indexer] = value instead\n",
      "\n",
      "See the caveats in the documentation: http://pandas.pydata.org/pandas-docs/stable/indexing.html#indexing-view-versus-copy\n",
      "  \"\"\"Entry point for launching an IPython kernel.\n"
     ]
    }
   ],
   "source": [
    "season08[\"Category\"] = \"2008 Season\""
   ]
  },
  {
   "cell_type": "code",
   "execution_count": 46,
   "metadata": {},
   "outputs": [
    {
     "name": "stderr",
     "output_type": "stream",
     "text": [
      "C:\\Users\\Esther Chao\\Anaconda3\\lib\\site-packages\\ipykernel_launcher.py:1: SettingWithCopyWarning: \n",
      "A value is trying to be set on a copy of a slice from a DataFrame.\n",
      "Try using .loc[row_indexer,col_indexer] = value instead\n",
      "\n",
      "See the caveats in the documentation: http://pandas.pydata.org/pandas-docs/stable/indexing.html#indexing-view-versus-copy\n",
      "  \"\"\"Entry point for launching an IPython kernel.\n"
     ]
    }
   ],
   "source": [
    "season08[\"InorOff\"] = \"In-Season\""
   ]
  },
  {
   "cell_type": "code",
   "execution_count": 47,
   "metadata": {
    "collapsed": true
   },
   "outputs": [],
   "source": [
    "offseason09 = ALL[(ALL.index > '2009-02-01') & (ALL.index < '2009-09-10')]"
   ]
  },
  {
   "cell_type": "code",
   "execution_count": 48,
   "metadata": {},
   "outputs": [
    {
     "name": "stderr",
     "output_type": "stream",
     "text": [
      "C:\\Users\\Esther Chao\\Anaconda3\\lib\\site-packages\\ipykernel_launcher.py:1: SettingWithCopyWarning: \n",
      "A value is trying to be set on a copy of a slice from a DataFrame.\n",
      "Try using .loc[row_indexer,col_indexer] = value instead\n",
      "\n",
      "See the caveats in the documentation: http://pandas.pydata.org/pandas-docs/stable/indexing.html#indexing-view-versus-copy\n",
      "  \"\"\"Entry point for launching an IPython kernel.\n"
     ]
    }
   ],
   "source": [
    "offseason09[\"Category\"] = \"2009 Offseason\""
   ]
  },
  {
   "cell_type": "code",
   "execution_count": 49,
   "metadata": {},
   "outputs": [
    {
     "name": "stderr",
     "output_type": "stream",
     "text": [
      "C:\\Users\\Esther Chao\\Anaconda3\\lib\\site-packages\\ipykernel_launcher.py:1: SettingWithCopyWarning: \n",
      "A value is trying to be set on a copy of a slice from a DataFrame.\n",
      "Try using .loc[row_indexer,col_indexer] = value instead\n",
      "\n",
      "See the caveats in the documentation: http://pandas.pydata.org/pandas-docs/stable/indexing.html#indexing-view-versus-copy\n",
      "  \"\"\"Entry point for launching an IPython kernel.\n"
     ]
    }
   ],
   "source": [
    "offseason09[\"InorOff\"] = \"Offseason\""
   ]
  },
  {
   "cell_type": "code",
   "execution_count": 50,
   "metadata": {
    "collapsed": true
   },
   "outputs": [],
   "source": [
    "season09 = ALL[(ALL.index >= '2009-09-10') & (ALL.index <= '2010-02-07')]"
   ]
  },
  {
   "cell_type": "code",
   "execution_count": 51,
   "metadata": {},
   "outputs": [
    {
     "name": "stderr",
     "output_type": "stream",
     "text": [
      "C:\\Users\\Esther Chao\\Anaconda3\\lib\\site-packages\\ipykernel_launcher.py:1: SettingWithCopyWarning: \n",
      "A value is trying to be set on a copy of a slice from a DataFrame.\n",
      "Try using .loc[row_indexer,col_indexer] = value instead\n",
      "\n",
      "See the caveats in the documentation: http://pandas.pydata.org/pandas-docs/stable/indexing.html#indexing-view-versus-copy\n",
      "  \"\"\"Entry point for launching an IPython kernel.\n"
     ]
    }
   ],
   "source": [
    "season09[\"Category\"] = \"2009 Season\""
   ]
  },
  {
   "cell_type": "code",
   "execution_count": 52,
   "metadata": {},
   "outputs": [
    {
     "name": "stderr",
     "output_type": "stream",
     "text": [
      "C:\\Users\\Esther Chao\\Anaconda3\\lib\\site-packages\\ipykernel_launcher.py:1: SettingWithCopyWarning: \n",
      "A value is trying to be set on a copy of a slice from a DataFrame.\n",
      "Try using .loc[row_indexer,col_indexer] = value instead\n",
      "\n",
      "See the caveats in the documentation: http://pandas.pydata.org/pandas-docs/stable/indexing.html#indexing-view-versus-copy\n",
      "  \"\"\"Entry point for launching an IPython kernel.\n"
     ]
    }
   ],
   "source": [
    "season09[\"InorOff\"] = \"In-Season\""
   ]
  },
  {
   "cell_type": "code",
   "execution_count": 53,
   "metadata": {
    "collapsed": true
   },
   "outputs": [],
   "source": [
    "offseason10 = ALL[(ALL.index > '2010-02-07') & (ALL.index < '2010-09-09')]"
   ]
  },
  {
   "cell_type": "code",
   "execution_count": 54,
   "metadata": {},
   "outputs": [
    {
     "name": "stderr",
     "output_type": "stream",
     "text": [
      "C:\\Users\\Esther Chao\\Anaconda3\\lib\\site-packages\\ipykernel_launcher.py:1: SettingWithCopyWarning: \n",
      "A value is trying to be set on a copy of a slice from a DataFrame.\n",
      "Try using .loc[row_indexer,col_indexer] = value instead\n",
      "\n",
      "See the caveats in the documentation: http://pandas.pydata.org/pandas-docs/stable/indexing.html#indexing-view-versus-copy\n",
      "  \"\"\"Entry point for launching an IPython kernel.\n"
     ]
    }
   ],
   "source": [
    "offseason10[\"Category\"] = \"2010 Offseason\""
   ]
  },
  {
   "cell_type": "code",
   "execution_count": 55,
   "metadata": {},
   "outputs": [
    {
     "name": "stderr",
     "output_type": "stream",
     "text": [
      "C:\\Users\\Esther Chao\\Anaconda3\\lib\\site-packages\\ipykernel_launcher.py:1: SettingWithCopyWarning: \n",
      "A value is trying to be set on a copy of a slice from a DataFrame.\n",
      "Try using .loc[row_indexer,col_indexer] = value instead\n",
      "\n",
      "See the caveats in the documentation: http://pandas.pydata.org/pandas-docs/stable/indexing.html#indexing-view-versus-copy\n",
      "  \"\"\"Entry point for launching an IPython kernel.\n"
     ]
    }
   ],
   "source": [
    "offseason10[\"InorOff\"] = \"Offseason\""
   ]
  },
  {
   "cell_type": "code",
   "execution_count": 56,
   "metadata": {
    "collapsed": true
   },
   "outputs": [],
   "source": [
    "season10 = ALL[(ALL.index >= '2010-09-09') & (ALL.index <= '2011-02-06')]"
   ]
  },
  {
   "cell_type": "code",
   "execution_count": 57,
   "metadata": {},
   "outputs": [
    {
     "name": "stderr",
     "output_type": "stream",
     "text": [
      "C:\\Users\\Esther Chao\\Anaconda3\\lib\\site-packages\\ipykernel_launcher.py:1: SettingWithCopyWarning: \n",
      "A value is trying to be set on a copy of a slice from a DataFrame.\n",
      "Try using .loc[row_indexer,col_indexer] = value instead\n",
      "\n",
      "See the caveats in the documentation: http://pandas.pydata.org/pandas-docs/stable/indexing.html#indexing-view-versus-copy\n",
      "  \"\"\"Entry point for launching an IPython kernel.\n"
     ]
    }
   ],
   "source": [
    "season10[\"Category\"] = \"2010 Season\""
   ]
  },
  {
   "cell_type": "code",
   "execution_count": 58,
   "metadata": {},
   "outputs": [
    {
     "name": "stderr",
     "output_type": "stream",
     "text": [
      "C:\\Users\\Esther Chao\\Anaconda3\\lib\\site-packages\\ipykernel_launcher.py:1: SettingWithCopyWarning: \n",
      "A value is trying to be set on a copy of a slice from a DataFrame.\n",
      "Try using .loc[row_indexer,col_indexer] = value instead\n",
      "\n",
      "See the caveats in the documentation: http://pandas.pydata.org/pandas-docs/stable/indexing.html#indexing-view-versus-copy\n",
      "  \"\"\"Entry point for launching an IPython kernel.\n"
     ]
    }
   ],
   "source": [
    "season10[\"InorOff\"] = \"In-Season\""
   ]
  },
  {
   "cell_type": "code",
   "execution_count": 59,
   "metadata": {
    "collapsed": true
   },
   "outputs": [],
   "source": [
    "offseason11 = ALL[(ALL.index > '2011-02-06') & (ALL.index < '2011-09-08')]"
   ]
  },
  {
   "cell_type": "code",
   "execution_count": 60,
   "metadata": {},
   "outputs": [
    {
     "name": "stderr",
     "output_type": "stream",
     "text": [
      "C:\\Users\\Esther Chao\\Anaconda3\\lib\\site-packages\\ipykernel_launcher.py:1: SettingWithCopyWarning: \n",
      "A value is trying to be set on a copy of a slice from a DataFrame.\n",
      "Try using .loc[row_indexer,col_indexer] = value instead\n",
      "\n",
      "See the caveats in the documentation: http://pandas.pydata.org/pandas-docs/stable/indexing.html#indexing-view-versus-copy\n",
      "  \"\"\"Entry point for launching an IPython kernel.\n"
     ]
    }
   ],
   "source": [
    "offseason11[\"Category\"] = \"2011 Offseason\""
   ]
  },
  {
   "cell_type": "code",
   "execution_count": 61,
   "metadata": {},
   "outputs": [
    {
     "name": "stderr",
     "output_type": "stream",
     "text": [
      "C:\\Users\\Esther Chao\\Anaconda3\\lib\\site-packages\\ipykernel_launcher.py:1: SettingWithCopyWarning: \n",
      "A value is trying to be set on a copy of a slice from a DataFrame.\n",
      "Try using .loc[row_indexer,col_indexer] = value instead\n",
      "\n",
      "See the caveats in the documentation: http://pandas.pydata.org/pandas-docs/stable/indexing.html#indexing-view-versus-copy\n",
      "  \"\"\"Entry point for launching an IPython kernel.\n"
     ]
    }
   ],
   "source": [
    "offseason11[\"InorOff\"] = \"Offseason\""
   ]
  },
  {
   "cell_type": "code",
   "execution_count": 62,
   "metadata": {
    "collapsed": true
   },
   "outputs": [],
   "source": [
    "season11 = ALL[(ALL.index >= '2011-09-08') & (ALL.index <= '2012-02-05')]"
   ]
  },
  {
   "cell_type": "code",
   "execution_count": 63,
   "metadata": {},
   "outputs": [
    {
     "name": "stderr",
     "output_type": "stream",
     "text": [
      "C:\\Users\\Esther Chao\\Anaconda3\\lib\\site-packages\\ipykernel_launcher.py:1: SettingWithCopyWarning: \n",
      "A value is trying to be set on a copy of a slice from a DataFrame.\n",
      "Try using .loc[row_indexer,col_indexer] = value instead\n",
      "\n",
      "See the caveats in the documentation: http://pandas.pydata.org/pandas-docs/stable/indexing.html#indexing-view-versus-copy\n",
      "  \"\"\"Entry point for launching an IPython kernel.\n"
     ]
    }
   ],
   "source": [
    "season11[\"Category\"] = \"2011 Season\""
   ]
  },
  {
   "cell_type": "code",
   "execution_count": 64,
   "metadata": {},
   "outputs": [
    {
     "name": "stderr",
     "output_type": "stream",
     "text": [
      "C:\\Users\\Esther Chao\\Anaconda3\\lib\\site-packages\\ipykernel_launcher.py:1: SettingWithCopyWarning: \n",
      "A value is trying to be set on a copy of a slice from a DataFrame.\n",
      "Try using .loc[row_indexer,col_indexer] = value instead\n",
      "\n",
      "See the caveats in the documentation: http://pandas.pydata.org/pandas-docs/stable/indexing.html#indexing-view-versus-copy\n",
      "  \"\"\"Entry point for launching an IPython kernel.\n"
     ]
    }
   ],
   "source": [
    "season11[\"InorOff\"] = \"In-Season\""
   ]
  },
  {
   "cell_type": "code",
   "execution_count": 65,
   "metadata": {
    "collapsed": true
   },
   "outputs": [],
   "source": [
    "offseason12 = ALL[(ALL.index > '2012-02-05') & (ALL.index < '2012-09-05')]"
   ]
  },
  {
   "cell_type": "code",
   "execution_count": 66,
   "metadata": {},
   "outputs": [
    {
     "name": "stderr",
     "output_type": "stream",
     "text": [
      "C:\\Users\\Esther Chao\\Anaconda3\\lib\\site-packages\\ipykernel_launcher.py:1: SettingWithCopyWarning: \n",
      "A value is trying to be set on a copy of a slice from a DataFrame.\n",
      "Try using .loc[row_indexer,col_indexer] = value instead\n",
      "\n",
      "See the caveats in the documentation: http://pandas.pydata.org/pandas-docs/stable/indexing.html#indexing-view-versus-copy\n",
      "  \"\"\"Entry point for launching an IPython kernel.\n"
     ]
    }
   ],
   "source": [
    "offseason12[\"Category\"] = \"2012 Offseason\""
   ]
  },
  {
   "cell_type": "code",
   "execution_count": 67,
   "metadata": {},
   "outputs": [
    {
     "name": "stderr",
     "output_type": "stream",
     "text": [
      "C:\\Users\\Esther Chao\\Anaconda3\\lib\\site-packages\\ipykernel_launcher.py:1: SettingWithCopyWarning: \n",
      "A value is trying to be set on a copy of a slice from a DataFrame.\n",
      "Try using .loc[row_indexer,col_indexer] = value instead\n",
      "\n",
      "See the caveats in the documentation: http://pandas.pydata.org/pandas-docs/stable/indexing.html#indexing-view-versus-copy\n",
      "  \"\"\"Entry point for launching an IPython kernel.\n"
     ]
    }
   ],
   "source": [
    "offseason12[\"InorOff\"] = \"Offseason\""
   ]
  },
  {
   "cell_type": "code",
   "execution_count": 68,
   "metadata": {
    "collapsed": true
   },
   "outputs": [],
   "source": [
    "season12 = ALL[(ALL.index >= '2012-09-05') & (ALL.index <= '2013-02-03')]"
   ]
  },
  {
   "cell_type": "code",
   "execution_count": 69,
   "metadata": {},
   "outputs": [
    {
     "name": "stderr",
     "output_type": "stream",
     "text": [
      "C:\\Users\\Esther Chao\\Anaconda3\\lib\\site-packages\\ipykernel_launcher.py:1: SettingWithCopyWarning: \n",
      "A value is trying to be set on a copy of a slice from a DataFrame.\n",
      "Try using .loc[row_indexer,col_indexer] = value instead\n",
      "\n",
      "See the caveats in the documentation: http://pandas.pydata.org/pandas-docs/stable/indexing.html#indexing-view-versus-copy\n",
      "  \"\"\"Entry point for launching an IPython kernel.\n"
     ]
    }
   ],
   "source": [
    "season12[\"Category\"] = \"2012 Season\""
   ]
  },
  {
   "cell_type": "code",
   "execution_count": 70,
   "metadata": {},
   "outputs": [
    {
     "name": "stderr",
     "output_type": "stream",
     "text": [
      "C:\\Users\\Esther Chao\\Anaconda3\\lib\\site-packages\\ipykernel_launcher.py:1: SettingWithCopyWarning: \n",
      "A value is trying to be set on a copy of a slice from a DataFrame.\n",
      "Try using .loc[row_indexer,col_indexer] = value instead\n",
      "\n",
      "See the caveats in the documentation: http://pandas.pydata.org/pandas-docs/stable/indexing.html#indexing-view-versus-copy\n",
      "  \"\"\"Entry point for launching an IPython kernel.\n"
     ]
    }
   ],
   "source": [
    "season12[\"InorOff\"] = \"In-Season\""
   ]
  },
  {
   "cell_type": "code",
   "execution_count": 71,
   "metadata": {
    "collapsed": true
   },
   "outputs": [],
   "source": [
    "offseason13 = ALL[(ALL.index > '2013-02-03 ') & (ALL.index < '2013-09-05')]"
   ]
  },
  {
   "cell_type": "code",
   "execution_count": 72,
   "metadata": {},
   "outputs": [
    {
     "name": "stderr",
     "output_type": "stream",
     "text": [
      "C:\\Users\\Esther Chao\\Anaconda3\\lib\\site-packages\\ipykernel_launcher.py:1: SettingWithCopyWarning: \n",
      "A value is trying to be set on a copy of a slice from a DataFrame.\n",
      "Try using .loc[row_indexer,col_indexer] = value instead\n",
      "\n",
      "See the caveats in the documentation: http://pandas.pydata.org/pandas-docs/stable/indexing.html#indexing-view-versus-copy\n",
      "  \"\"\"Entry point for launching an IPython kernel.\n"
     ]
    }
   ],
   "source": [
    "offseason13[\"Category\"] = \"2013 Offseason\""
   ]
  },
  {
   "cell_type": "code",
   "execution_count": 73,
   "metadata": {},
   "outputs": [
    {
     "name": "stderr",
     "output_type": "stream",
     "text": [
      "C:\\Users\\Esther Chao\\Anaconda3\\lib\\site-packages\\ipykernel_launcher.py:1: SettingWithCopyWarning: \n",
      "A value is trying to be set on a copy of a slice from a DataFrame.\n",
      "Try using .loc[row_indexer,col_indexer] = value instead\n",
      "\n",
      "See the caveats in the documentation: http://pandas.pydata.org/pandas-docs/stable/indexing.html#indexing-view-versus-copy\n",
      "  \"\"\"Entry point for launching an IPython kernel.\n"
     ]
    }
   ],
   "source": [
    "offseason13[\"InorOff\"] = \"Offseason\""
   ]
  },
  {
   "cell_type": "code",
   "execution_count": 74,
   "metadata": {
    "collapsed": true
   },
   "outputs": [],
   "source": [
    "season13 = ALL[(ALL.index >= '2013-09-05') & (ALL.index <= '2014-02-02')]"
   ]
  },
  {
   "cell_type": "code",
   "execution_count": 75,
   "metadata": {},
   "outputs": [
    {
     "name": "stderr",
     "output_type": "stream",
     "text": [
      "C:\\Users\\Esther Chao\\Anaconda3\\lib\\site-packages\\ipykernel_launcher.py:1: SettingWithCopyWarning: \n",
      "A value is trying to be set on a copy of a slice from a DataFrame.\n",
      "Try using .loc[row_indexer,col_indexer] = value instead\n",
      "\n",
      "See the caveats in the documentation: http://pandas.pydata.org/pandas-docs/stable/indexing.html#indexing-view-versus-copy\n",
      "  \"\"\"Entry point for launching an IPython kernel.\n"
     ]
    }
   ],
   "source": [
    "season13[\"Category\"] = \"2013 Season\""
   ]
  },
  {
   "cell_type": "code",
   "execution_count": 76,
   "metadata": {},
   "outputs": [
    {
     "name": "stderr",
     "output_type": "stream",
     "text": [
      "C:\\Users\\Esther Chao\\Anaconda3\\lib\\site-packages\\ipykernel_launcher.py:1: SettingWithCopyWarning: \n",
      "A value is trying to be set on a copy of a slice from a DataFrame.\n",
      "Try using .loc[row_indexer,col_indexer] = value instead\n",
      "\n",
      "See the caveats in the documentation: http://pandas.pydata.org/pandas-docs/stable/indexing.html#indexing-view-versus-copy\n",
      "  \"\"\"Entry point for launching an IPython kernel.\n"
     ]
    }
   ],
   "source": [
    "season13[\"InorOff\"] = \"In-Season\""
   ]
  },
  {
   "cell_type": "code",
   "execution_count": 77,
   "metadata": {
    "collapsed": true
   },
   "outputs": [],
   "source": [
    "offseason14 = ALL[(ALL.index > '2014-02-02') & (ALL.index < '2014-09-04')]"
   ]
  },
  {
   "cell_type": "code",
   "execution_count": 78,
   "metadata": {},
   "outputs": [
    {
     "name": "stderr",
     "output_type": "stream",
     "text": [
      "C:\\Users\\Esther Chao\\Anaconda3\\lib\\site-packages\\ipykernel_launcher.py:1: SettingWithCopyWarning: \n",
      "A value is trying to be set on a copy of a slice from a DataFrame.\n",
      "Try using .loc[row_indexer,col_indexer] = value instead\n",
      "\n",
      "See the caveats in the documentation: http://pandas.pydata.org/pandas-docs/stable/indexing.html#indexing-view-versus-copy\n",
      "  \"\"\"Entry point for launching an IPython kernel.\n"
     ]
    }
   ],
   "source": [
    "offseason14[\"Category\"] = \"2014 Offseason\""
   ]
  },
  {
   "cell_type": "code",
   "execution_count": 79,
   "metadata": {},
   "outputs": [
    {
     "name": "stderr",
     "output_type": "stream",
     "text": [
      "C:\\Users\\Esther Chao\\Anaconda3\\lib\\site-packages\\ipykernel_launcher.py:1: SettingWithCopyWarning: \n",
      "A value is trying to be set on a copy of a slice from a DataFrame.\n",
      "Try using .loc[row_indexer,col_indexer] = value instead\n",
      "\n",
      "See the caveats in the documentation: http://pandas.pydata.org/pandas-docs/stable/indexing.html#indexing-view-versus-copy\n",
      "  \"\"\"Entry point for launching an IPython kernel.\n"
     ]
    }
   ],
   "source": [
    "offseason14[\"InorOff\"] = \"Offseason\""
   ]
  },
  {
   "cell_type": "code",
   "execution_count": 80,
   "metadata": {
    "collapsed": true
   },
   "outputs": [],
   "source": [
    "season14 = ALL[(ALL.index >= '2014-09-04') & (ALL.index <= '2015-02-01')]"
   ]
  },
  {
   "cell_type": "code",
   "execution_count": 81,
   "metadata": {},
   "outputs": [
    {
     "name": "stderr",
     "output_type": "stream",
     "text": [
      "C:\\Users\\Esther Chao\\Anaconda3\\lib\\site-packages\\ipykernel_launcher.py:1: SettingWithCopyWarning: \n",
      "A value is trying to be set on a copy of a slice from a DataFrame.\n",
      "Try using .loc[row_indexer,col_indexer] = value instead\n",
      "\n",
      "See the caveats in the documentation: http://pandas.pydata.org/pandas-docs/stable/indexing.html#indexing-view-versus-copy\n",
      "  \"\"\"Entry point for launching an IPython kernel.\n"
     ]
    }
   ],
   "source": [
    "season14[\"Category\"] = \"2014 Season\""
   ]
  },
  {
   "cell_type": "code",
   "execution_count": 82,
   "metadata": {},
   "outputs": [
    {
     "name": "stderr",
     "output_type": "stream",
     "text": [
      "C:\\Users\\Esther Chao\\Anaconda3\\lib\\site-packages\\ipykernel_launcher.py:1: SettingWithCopyWarning: \n",
      "A value is trying to be set on a copy of a slice from a DataFrame.\n",
      "Try using .loc[row_indexer,col_indexer] = value instead\n",
      "\n",
      "See the caveats in the documentation: http://pandas.pydata.org/pandas-docs/stable/indexing.html#indexing-view-versus-copy\n",
      "  \"\"\"Entry point for launching an IPython kernel.\n"
     ]
    }
   ],
   "source": [
    "season14[\"InorOff\"] = \"In-Season\""
   ]
  },
  {
   "cell_type": "code",
   "execution_count": 83,
   "metadata": {
    "collapsed": true
   },
   "outputs": [],
   "source": [
    "offseason15 = ALL[(ALL.index > '2015-02-01') & (ALL.index < '2015-09-10')]"
   ]
  },
  {
   "cell_type": "code",
   "execution_count": 84,
   "metadata": {},
   "outputs": [
    {
     "name": "stderr",
     "output_type": "stream",
     "text": [
      "C:\\Users\\Esther Chao\\Anaconda3\\lib\\site-packages\\ipykernel_launcher.py:1: SettingWithCopyWarning: \n",
      "A value is trying to be set on a copy of a slice from a DataFrame.\n",
      "Try using .loc[row_indexer,col_indexer] = value instead\n",
      "\n",
      "See the caveats in the documentation: http://pandas.pydata.org/pandas-docs/stable/indexing.html#indexing-view-versus-copy\n",
      "  \"\"\"Entry point for launching an IPython kernel.\n"
     ]
    }
   ],
   "source": [
    "offseason15[\"Category\"] = \"2015 Offseason\""
   ]
  },
  {
   "cell_type": "code",
   "execution_count": 85,
   "metadata": {
    "scrolled": true
   },
   "outputs": [
    {
     "name": "stderr",
     "output_type": "stream",
     "text": [
      "C:\\Users\\Esther Chao\\Anaconda3\\lib\\site-packages\\ipykernel_launcher.py:1: SettingWithCopyWarning: \n",
      "A value is trying to be set on a copy of a slice from a DataFrame.\n",
      "Try using .loc[row_indexer,col_indexer] = value instead\n",
      "\n",
      "See the caveats in the documentation: http://pandas.pydata.org/pandas-docs/stable/indexing.html#indexing-view-versus-copy\n",
      "  \"\"\"Entry point for launching an IPython kernel.\n"
     ]
    }
   ],
   "source": [
    "offseason15[\"InorOff\"] = \"Offseason\""
   ]
  },
  {
   "cell_type": "code",
   "execution_count": 86,
   "metadata": {
    "collapsed": true
   },
   "outputs": [],
   "source": [
    "season15 = ALL[(ALL.index >= '2015-09-10') & (ALL.index <= '2016-02-07')]"
   ]
  },
  {
   "cell_type": "code",
   "execution_count": 87,
   "metadata": {},
   "outputs": [
    {
     "name": "stderr",
     "output_type": "stream",
     "text": [
      "C:\\Users\\Esther Chao\\Anaconda3\\lib\\site-packages\\ipykernel_launcher.py:1: SettingWithCopyWarning: \n",
      "A value is trying to be set on a copy of a slice from a DataFrame.\n",
      "Try using .loc[row_indexer,col_indexer] = value instead\n",
      "\n",
      "See the caveats in the documentation: http://pandas.pydata.org/pandas-docs/stable/indexing.html#indexing-view-versus-copy\n",
      "  \"\"\"Entry point for launching an IPython kernel.\n"
     ]
    }
   ],
   "source": [
    "season15[\"Category\"] = \"2015 Season\""
   ]
  },
  {
   "cell_type": "code",
   "execution_count": 88,
   "metadata": {},
   "outputs": [
    {
     "name": "stderr",
     "output_type": "stream",
     "text": [
      "C:\\Users\\Esther Chao\\Anaconda3\\lib\\site-packages\\ipykernel_launcher.py:1: SettingWithCopyWarning: \n",
      "A value is trying to be set on a copy of a slice from a DataFrame.\n",
      "Try using .loc[row_indexer,col_indexer] = value instead\n",
      "\n",
      "See the caveats in the documentation: http://pandas.pydata.org/pandas-docs/stable/indexing.html#indexing-view-versus-copy\n",
      "  \"\"\"Entry point for launching an IPython kernel.\n"
     ]
    }
   ],
   "source": [
    "season15[\"InorOff\"] = \"In-Season\""
   ]
  },
  {
   "cell_type": "code",
   "execution_count": 89,
   "metadata": {
    "collapsed": true
   },
   "outputs": [],
   "source": [
    "offseason16 = ALL[(ALL.index > '2016-02-07') & (ALL.index < '2016-09-08')]"
   ]
  },
  {
   "cell_type": "code",
   "execution_count": 90,
   "metadata": {},
   "outputs": [
    {
     "name": "stderr",
     "output_type": "stream",
     "text": [
      "C:\\Users\\Esther Chao\\Anaconda3\\lib\\site-packages\\ipykernel_launcher.py:1: SettingWithCopyWarning: \n",
      "A value is trying to be set on a copy of a slice from a DataFrame.\n",
      "Try using .loc[row_indexer,col_indexer] = value instead\n",
      "\n",
      "See the caveats in the documentation: http://pandas.pydata.org/pandas-docs/stable/indexing.html#indexing-view-versus-copy\n",
      "  \"\"\"Entry point for launching an IPython kernel.\n"
     ]
    }
   ],
   "source": [
    "offseason16[\"Category\"] = \"2016 Offseason\""
   ]
  },
  {
   "cell_type": "code",
   "execution_count": 91,
   "metadata": {},
   "outputs": [
    {
     "name": "stderr",
     "output_type": "stream",
     "text": [
      "C:\\Users\\Esther Chao\\Anaconda3\\lib\\site-packages\\ipykernel_launcher.py:1: SettingWithCopyWarning: \n",
      "A value is trying to be set on a copy of a slice from a DataFrame.\n",
      "Try using .loc[row_indexer,col_indexer] = value instead\n",
      "\n",
      "See the caveats in the documentation: http://pandas.pydata.org/pandas-docs/stable/indexing.html#indexing-view-versus-copy\n",
      "  \"\"\"Entry point for launching an IPython kernel.\n"
     ]
    }
   ],
   "source": [
    "offseason16[\"InorOff\"] = \"Offseason\""
   ]
  },
  {
   "cell_type": "code",
   "execution_count": 92,
   "metadata": {
    "collapsed": true
   },
   "outputs": [],
   "source": [
    "season16 = ALL[(ALL.index >= '2016-09-08') & (ALL.index <= '2017-02-05')]"
   ]
  },
  {
   "cell_type": "code",
   "execution_count": 93,
   "metadata": {},
   "outputs": [
    {
     "name": "stderr",
     "output_type": "stream",
     "text": [
      "C:\\Users\\Esther Chao\\Anaconda3\\lib\\site-packages\\ipykernel_launcher.py:1: SettingWithCopyWarning: \n",
      "A value is trying to be set on a copy of a slice from a DataFrame.\n",
      "Try using .loc[row_indexer,col_indexer] = value instead\n",
      "\n",
      "See the caveats in the documentation: http://pandas.pydata.org/pandas-docs/stable/indexing.html#indexing-view-versus-copy\n",
      "  \"\"\"Entry point for launching an IPython kernel.\n"
     ]
    }
   ],
   "source": [
    "season16[\"Category\"] = \"2016 Season\""
   ]
  },
  {
   "cell_type": "code",
   "execution_count": 94,
   "metadata": {},
   "outputs": [
    {
     "name": "stderr",
     "output_type": "stream",
     "text": [
      "C:\\Users\\Esther Chao\\Anaconda3\\lib\\site-packages\\ipykernel_launcher.py:1: SettingWithCopyWarning: \n",
      "A value is trying to be set on a copy of a slice from a DataFrame.\n",
      "Try using .loc[row_indexer,col_indexer] = value instead\n",
      "\n",
      "See the caveats in the documentation: http://pandas.pydata.org/pandas-docs/stable/indexing.html#indexing-view-versus-copy\n",
      "  \"\"\"Entry point for launching an IPython kernel.\n"
     ]
    }
   ],
   "source": [
    "season16[\"InorOff\"] = \"In-Season\""
   ]
  },
  {
   "cell_type": "code",
   "execution_count": 95,
   "metadata": {
    "collapsed": true
   },
   "outputs": [],
   "source": [
    "offseason17 = ALL[(ALL.index > '2017-02-05') & (ALL.index < '2017-09-07')]"
   ]
  },
  {
   "cell_type": "code",
   "execution_count": 96,
   "metadata": {},
   "outputs": [
    {
     "name": "stderr",
     "output_type": "stream",
     "text": [
      "C:\\Users\\Esther Chao\\Anaconda3\\lib\\site-packages\\ipykernel_launcher.py:1: SettingWithCopyWarning: \n",
      "A value is trying to be set on a copy of a slice from a DataFrame.\n",
      "Try using .loc[row_indexer,col_indexer] = value instead\n",
      "\n",
      "See the caveats in the documentation: http://pandas.pydata.org/pandas-docs/stable/indexing.html#indexing-view-versus-copy\n",
      "  \"\"\"Entry point for launching an IPython kernel.\n"
     ]
    }
   ],
   "source": [
    "offseason17[\"Category\"] = \"2017 Offseason\""
   ]
  },
  {
   "cell_type": "code",
   "execution_count": 97,
   "metadata": {},
   "outputs": [
    {
     "name": "stderr",
     "output_type": "stream",
     "text": [
      "C:\\Users\\Esther Chao\\Anaconda3\\lib\\site-packages\\ipykernel_launcher.py:1: SettingWithCopyWarning: \n",
      "A value is trying to be set on a copy of a slice from a DataFrame.\n",
      "Try using .loc[row_indexer,col_indexer] = value instead\n",
      "\n",
      "See the caveats in the documentation: http://pandas.pydata.org/pandas-docs/stable/indexing.html#indexing-view-versus-copy\n",
      "  \"\"\"Entry point for launching an IPython kernel.\n"
     ]
    }
   ],
   "source": [
    "offseason17[\"InorOff\"] = \"Offseason\""
   ]
  },
  {
   "cell_type": "code",
   "execution_count": 98,
   "metadata": {
    "collapsed": true
   },
   "outputs": [],
   "source": [
    "season17 = ALL[(ALL.index >= '2017-09-07') & (ALL.index <= '2018-02-07')]"
   ]
  },
  {
   "cell_type": "code",
   "execution_count": 99,
   "metadata": {},
   "outputs": [
    {
     "name": "stderr",
     "output_type": "stream",
     "text": [
      "C:\\Users\\Esther Chao\\Anaconda3\\lib\\site-packages\\ipykernel_launcher.py:1: SettingWithCopyWarning: \n",
      "A value is trying to be set on a copy of a slice from a DataFrame.\n",
      "Try using .loc[row_indexer,col_indexer] = value instead\n",
      "\n",
      "See the caveats in the documentation: http://pandas.pydata.org/pandas-docs/stable/indexing.html#indexing-view-versus-copy\n",
      "  \"\"\"Entry point for launching an IPython kernel.\n"
     ]
    }
   ],
   "source": [
    "season17[\"Category\"] = \"2017 Season\""
   ]
  },
  {
   "cell_type": "code",
   "execution_count": 100,
   "metadata": {},
   "outputs": [
    {
     "name": "stderr",
     "output_type": "stream",
     "text": [
      "C:\\Users\\Esther Chao\\Anaconda3\\lib\\site-packages\\ipykernel_launcher.py:1: SettingWithCopyWarning: \n",
      "A value is trying to be set on a copy of a slice from a DataFrame.\n",
      "Try using .loc[row_indexer,col_indexer] = value instead\n",
      "\n",
      "See the caveats in the documentation: http://pandas.pydata.org/pandas-docs/stable/indexing.html#indexing-view-versus-copy\n",
      "  \"\"\"Entry point for launching an IPython kernel.\n"
     ]
    }
   ],
   "source": [
    "season17[\"InorOff\"] = \"In-Season\""
   ]
  },
  {
   "cell_type": "code",
   "execution_count": 101,
   "metadata": {
    "collapsed": true
   },
   "outputs": [],
   "source": [
    "offseason18 = ALL[(ALL.index > '2018-02-07')] # Finally, this says that everything after this past Superbowl is part of\n",
    "                                                # the 2018 offseason."
   ]
  },
  {
   "cell_type": "code",
   "execution_count": 102,
   "metadata": {},
   "outputs": [
    {
     "name": "stderr",
     "output_type": "stream",
     "text": [
      "C:\\Users\\Esther Chao\\Anaconda3\\lib\\site-packages\\ipykernel_launcher.py:1: SettingWithCopyWarning: \n",
      "A value is trying to be set on a copy of a slice from a DataFrame.\n",
      "Try using .loc[row_indexer,col_indexer] = value instead\n",
      "\n",
      "See the caveats in the documentation: http://pandas.pydata.org/pandas-docs/stable/indexing.html#indexing-view-versus-copy\n",
      "  \"\"\"Entry point for launching an IPython kernel.\n"
     ]
    }
   ],
   "source": [
    "offseason18[\"Category\"] = \"2018 Offseason\""
   ]
  },
  {
   "cell_type": "code",
   "execution_count": 103,
   "metadata": {},
   "outputs": [
    {
     "name": "stderr",
     "output_type": "stream",
     "text": [
      "C:\\Users\\Esther Chao\\Anaconda3\\lib\\site-packages\\ipykernel_launcher.py:1: SettingWithCopyWarning: \n",
      "A value is trying to be set on a copy of a slice from a DataFrame.\n",
      "Try using .loc[row_indexer,col_indexer] = value instead\n",
      "\n",
      "See the caveats in the documentation: http://pandas.pydata.org/pandas-docs/stable/indexing.html#indexing-view-versus-copy\n",
      "  \"\"\"Entry point for launching an IPython kernel.\n"
     ]
    }
   ],
   "source": [
    "offseason18[\"InorOff\"] = \"Offseason\""
   ]
  },
  {
   "cell_type": "code",
   "execution_count": 104,
   "metadata": {},
   "outputs": [
    {
     "data": {
      "text/html": [
       "<div>\n",
       "<style scoped>\n",
       "    .dataframe tbody tr th:only-of-type {\n",
       "        vertical-align: middle;\n",
       "    }\n",
       "\n",
       "    .dataframe tbody tr th {\n",
       "        vertical-align: top;\n",
       "    }\n",
       "\n",
       "    .dataframe thead th {\n",
       "        text-align: right;\n",
       "    }\n",
       "</style>\n",
       "<table border=\"1\" class=\"dataframe\">\n",
       "  <thead>\n",
       "    <tr style=\"text-align: right;\">\n",
       "      <th></th>\n",
       "      <th># Seats</th>\n",
       "      <th>Seating Area</th>\n",
       "      <th>Section</th>\n",
       "      <th>Row</th>\n",
       "      <th>Total Price</th>\n",
       "      <th>Per Seat Price</th>\n",
       "      <th>Team</th>\n",
       "      <th>Category</th>\n",
       "      <th>InorOff</th>\n",
       "    </tr>\n",
       "    <tr>\n",
       "      <th>Date</th>\n",
       "      <th></th>\n",
       "      <th></th>\n",
       "      <th></th>\n",
       "      <th></th>\n",
       "      <th></th>\n",
       "      <th></th>\n",
       "      <th></th>\n",
       "      <th></th>\n",
       "      <th></th>\n",
       "    </tr>\n",
       "  </thead>\n",
       "  <tbody>\n",
       "    <tr>\n",
       "      <th>2007-05-18</th>\n",
       "      <td>2</td>\n",
       "      <td>Lower Level End Zone (C)</td>\n",
       "      <td>112</td>\n",
       "      <td>15</td>\n",
       "      <td>11000</td>\n",
       "      <td>5500.0</td>\n",
       "      <td>BAL</td>\n",
       "      <td>2007 Offseason</td>\n",
       "      <td>Offseason</td>\n",
       "    </tr>\n",
       "    <tr>\n",
       "      <th>2007-05-22</th>\n",
       "      <td>2</td>\n",
       "      <td>Club Level III Corner</td>\n",
       "      <td>222</td>\n",
       "      <td>9</td>\n",
       "      <td>10000</td>\n",
       "      <td>5000.0</td>\n",
       "      <td>BAL</td>\n",
       "      <td>2007 Offseason</td>\n",
       "      <td>Offseason</td>\n",
       "    </tr>\n",
       "    <tr>\n",
       "      <th>2007-05-22</th>\n",
       "      <td>2</td>\n",
       "      <td>Club Level III Corner</td>\n",
       "      <td>220</td>\n",
       "      <td>11</td>\n",
       "      <td>8500</td>\n",
       "      <td>4250.0</td>\n",
       "      <td>BAL</td>\n",
       "      <td>2007 Offseason</td>\n",
       "      <td>Offseason</td>\n",
       "    </tr>\n",
       "    <tr>\n",
       "      <th>2007-05-22</th>\n",
       "      <td>1</td>\n",
       "      <td>Club Level IV End Zone</td>\n",
       "      <td>208</td>\n",
       "      <td>11</td>\n",
       "      <td>3000</td>\n",
       "      <td>3000.0</td>\n",
       "      <td>BAL</td>\n",
       "      <td>2007 Offseason</td>\n",
       "      <td>Offseason</td>\n",
       "    </tr>\n",
       "    <tr>\n",
       "      <th>2007-05-22</th>\n",
       "      <td>4</td>\n",
       "      <td>Lower Level Sideline (B)</td>\n",
       "      <td>102</td>\n",
       "      <td>6</td>\n",
       "      <td>40000</td>\n",
       "      <td>10000.0</td>\n",
       "      <td>BAL</td>\n",
       "      <td>2007 Offseason</td>\n",
       "      <td>Offseason</td>\n",
       "    </tr>\n",
       "  </tbody>\n",
       "</table>\n",
       "</div>"
      ],
      "text/plain": [
       "            # Seats              Seating Area Section Row  Total Price  \\\n",
       "Date                                                                     \n",
       "2007-05-18        2  Lower Level End Zone (C)     112  15        11000   \n",
       "2007-05-22        2     Club Level III Corner     222   9        10000   \n",
       "2007-05-22        2     Club Level III Corner     220  11         8500   \n",
       "2007-05-22        1    Club Level IV End Zone     208  11         3000   \n",
       "2007-05-22        4  Lower Level Sideline (B)     102   6        40000   \n",
       "\n",
       "            Per Seat Price Team        Category    InorOff  \n",
       "Date                                                        \n",
       "2007-05-18          5500.0  BAL  2007 Offseason  Offseason  \n",
       "2007-05-22          5000.0  BAL  2007 Offseason  Offseason  \n",
       "2007-05-22          4250.0  BAL  2007 Offseason  Offseason  \n",
       "2007-05-22          3000.0  BAL  2007 Offseason  Offseason  \n",
       "2007-05-22         10000.0  BAL  2007 Offseason  Offseason  "
      ]
     },
     "execution_count": 104,
     "metadata": {},
     "output_type": "execute_result"
    }
   ],
   "source": [
    "ALLbyseasons = offseason07.append([season07, offseason08, season08, offseason09, season09, offseason10, season10, offseason11,\n",
    "                                  season11, offseason12, season12, offseason13, season13, offseason14, season14, offseason15,\n",
    "                                  season15, offseason16, season16, offseason17, season17, offseason18])\n",
    "\n",
    "# Now we create a new sample merging all of these together with the seasons listed.\n",
    "\n",
    "ALLbyseasons.head() # Checks the headers"
   ]
  },
  {
   "cell_type": "code",
   "execution_count": 105,
   "metadata": {},
   "outputs": [
    {
     "data": {
      "text/plain": [
       "(14395, 9)"
      ]
     },
     "execution_count": 105,
     "metadata": {},
     "output_type": "execute_result"
    }
   ],
   "source": [
    "ALLbyseasons.shape # This matches the height of our previous sample, confirming that we didn't lose any transactions."
   ]
  },
  {
   "cell_type": "markdown",
   "metadata": {},
   "source": [
    "----\n",
    "\n",
    "## Analysis 1: Comparing the Average Per Seat Price of a PSL Across the 8 Teams"
   ]
  },
  {
   "cell_type": "code",
   "execution_count": 106,
   "metadata": {
    "collapsed": true
   },
   "outputs": [],
   "source": [
    "total = ALL.groupby(\"Team\") # This groups our final sample by team."
   ]
  },
  {
   "cell_type": "code",
   "execution_count": 107,
   "metadata": {
    "collapsed": true
   },
   "outputs": [],
   "source": [
    "avg_per_seat_price = total[\"Per Seat Price\"].mean() # This takes the mean of each our eight teams."
   ]
  },
  {
   "cell_type": "code",
   "execution_count": 108,
   "metadata": {},
   "outputs": [
    {
     "data": {
      "text/plain": [
       "Team\n",
       "BAL     3087.085366\n",
       "CHI     7258.522525\n",
       "CIN     1303.776579\n",
       "HOU     3866.594966\n",
       "NYG     3359.844443\n",
       "PHI     5437.813659\n",
       "PIT     6002.265933\n",
       "SEA    11746.781466\n",
       "Name: Per Seat Price, dtype: float64"
      ]
     },
     "execution_count": 108,
     "metadata": {},
     "output_type": "execute_result"
    }
   ],
   "source": [
    "avg_per_seat_price"
   ]
  },
  {
   "cell_type": "code",
   "execution_count": 181,
   "metadata": {
    "scrolled": true
   },
   "outputs": [
    {
     "data": {
      "image/png": "[encoded data removed]",
      "text/plain": [
       "<matplotlib.figure.Figure at 0x2ae7117af60>"
      ]
     },
     "metadata": {},
     "output_type": "display_data"
    }
   ],
   "source": [
    "# Here we will graph our results.\n",
    "\n",
    "fix, ax = plt.subplots()\n",
    "\n",
    "ax.bar(avg_per_seat_price.index, avg_per_seat_price,\n",
    "       color = \"navy\")\n",
    "\n",
    "ax.set_title(\"Average PSL Price By NFL Team\")\n",
    "ax.set_ylabel(\"Average PSL Price\") \n",
    "ax.set_xlabel(\"Team\")\n",
    "\n",
    "ax.spines[\"right\"].set_visible(False) # Removes border from right\n",
    "ax.spines[\"top\"].set_visible(False) # Removes border from top\n",
    "\n",
    "plt.show()"
   ]
  },
  {
   "cell_type": "markdown",
   "metadata": {},
   "source": [
    "**Analyis 1 Conclusion:** There is a large descrepancy between the average prices of PSL across teams, i.e. 1300 dollars for the average Chicago Bears PSL to nearly 12,000 dollars for the average Seattle Seahawks PSL. The Seattle Seahawks made the playoffs in each of the consecutive four seasons following its partnership with STR Marketplace in February 2012, even winning the Super Bowl in 2013. This prompts us to discover whether or not post-season performance is affecting its expensive price."
   ]
  },
  {
   "cell_type": "markdown",
   "metadata": {},
   "source": [
    "----\n",
    "\n",
    "## Analysis 2: Comparing In-Season PSL Sales Prices with Sales Prices During the Off-Season"
   ]
  },
  {
   "cell_type": "code",
   "execution_count": 110,
   "metadata": {
    "collapsed": true
   },
   "outputs": [],
   "source": [
    "inoroffseason = ALLbyseasons.groupby(\"InorOff\") # This groups our sample by whether transactions took place in-season or during\n",
    "                                                # the off-season."
   ]
  },
  {
   "cell_type": "code",
   "execution_count": 111,
   "metadata": {},
   "outputs": [
    {
     "data": {
      "text/plain": [
       "InorOff\n",
       "In-Season    4069.388127\n",
       "Offseason    4500.986982\n",
       "Name: Per Seat Price, dtype: float64"
      ]
     },
     "execution_count": 111,
     "metadata": {},
     "output_type": "execute_result"
    }
   ],
   "source": [
    "avg_per_seat_price_inoroffseason = inoroffseason[\"Per Seat Price\"].mean() # This takes the average of each of the 2 categories.\n",
    "\n",
    "avg_per_seat_price_inoroffseason"
   ]
  },
  {
   "cell_type": "code",
   "execution_count": 183,
   "metadata": {},
   "outputs": [
    {
     "data": {
      "image/png": "[encoded data removed]",
      "text/plain": [
       "<matplotlib.figure.Figure at 0x2ae735fd3c8>"
      ]
     },
     "metadata": {},
     "output_type": "display_data"
    }
   ],
   "source": [
    "# Here we will graph our results.\n",
    "\n",
    "fix, ax = plt.subplots()\n",
    "\n",
    "ax.bar(avg_per_seat_price_inoroffseason.index, avg_per_seat_price_inoroffseason,\n",
    "       color = \"navy\")\n",
    "\n",
    "ax.set_title(\"Average PSL Price in Season vs. Offseasons\")\n",
    "ax.set_ylabel(\"Average PSL Price\") \n",
    "\n",
    "ax.spines[\"right\"].set_visible(False) # Removes border from right\n",
    "ax.spines[\"top\"].set_visible(False) # Removes border from top\n",
    "\n",
    "plt.show()"
   ]
  },
  {
   "cell_type": "markdown",
   "metadata": {},
   "source": [
    "**Analysis 2 Conclusion:** We do see that prices in the off-season are higher on average than prices of transactions that take place during the season. This again prompts us to consider the impact of post-season performance on sales in the offseason, ultimately raising demand and prices."
   ]
  },
  {
   "cell_type": "markdown",
   "metadata": {},
   "source": [
    "----\n",
    "\n",
    "## Analysis 3: Impact of Superbowl Wins on Performance"
   ]
  },
  {
   "cell_type": "markdown",
   "metadata": {},
   "source": [
    "**Providing a Benchmark for Analysis:** When deciding if there's an impact of Postseason Performance on prices during a team's offseason, we need a benchmark to compare it to. We will use three:"
   ]
  },
  {
   "cell_type": "markdown",
   "metadata": {},
   "source": [
    "*Benchmark 1. Season leading up to that particular offseason*"
   ]
  },
  {
   "cell_type": "markdown",
   "metadata": {},
   "source": [
    "*Benchmark 2. Team's average PSL price across all transactions and years (Analysis 1)*"
   ]
  },
  {
   "cell_type": "code",
   "execution_count": 113,
   "metadata": {},
   "outputs": [
    {
     "data": {
      "text/plain": [
       "Team\n",
       "BAL     3087.085366\n",
       "CHI     7258.522525\n",
       "CIN     1303.776579\n",
       "HOU     3866.594966\n",
       "NYG     3359.844443\n",
       "PHI     5437.813659\n",
       "PIT     6002.265933\n",
       "SEA    11746.781466\n",
       "Name: Per Seat Price, dtype: float64"
      ]
     },
     "execution_count": 113,
     "metadata": {},
     "output_type": "execute_result"
    }
   ],
   "source": [
    "avg_per_seat_price # Average price of each team's PSLs across the entire sample"
   ]
  },
  {
   "cell_type": "markdown",
   "metadata": {},
   "source": [
    "*Benchmark 3. The average price across the team's offseasons.*"
   ]
  },
  {
   "cell_type": "code",
   "execution_count": 114,
   "metadata": {
    "collapsed": true
   },
   "outputs": [],
   "source": [
    "inoroffseason_teams = ALLbyseasons.groupby([\"InorOff\", \"Team\"]) # Groups by In or Offseason, then by team"
   ]
  },
  {
   "cell_type": "code",
   "execution_count": 115,
   "metadata": {
    "scrolled": true
   },
   "outputs": [
    {
     "data": {
      "text/plain": [
       "InorOff    Team\n",
       "In-Season  BAL      3015.057828\n",
       "           CHI      7367.609162\n",
       "           CIN      1259.214315\n",
       "           HOU      3920.933328\n",
       "           NYG      3679.382552\n",
       "           PHI      5481.189276\n",
       "           PIT      6264.831685\n",
       "           SEA     12181.341954\n",
       "Offseason  BAL      3125.083708\n",
       "           CHI      7248.013333\n",
       "           CIN      1326.916881\n",
       "           HOU      3840.540779\n",
       "           NYG      3244.305239\n",
       "           PHI      5414.450592\n",
       "           PIT      5902.958022\n",
       "           SEA     11609.051913\n",
       "Name: Per Seat Price, dtype: float64"
      ]
     },
     "execution_count": 115,
     "metadata": {},
     "output_type": "execute_result"
    }
   ],
   "source": [
    "avg_per_seat_price_inoroffseason_teams = inoroffseason_teams[\"Per Seat Price\"].mean()\n",
    "\n",
    "avg_per_seat_price_inoroffseason_teams # Acts as a benchmark for how expensive a team's PSLs are during in or off-season."
   ]
  },
  {
   "cell_type": "markdown",
   "metadata": {},
   "source": [
    "### Case Study: Baltimore Ravens - Superbowl Champions, 2012 Season"
   ]
  },
  {
   "cell_type": "markdown",
   "metadata": {},
   "source": [
    "We chose Baltimore Ravens as our case study to walk through these benchmarks because they are the team that has used STR Marketplace the longest since 2007, giving it ample data before and after its win."
   ]
  },
  {
   "cell_type": "code",
   "execution_count": 116,
   "metadata": {
    "collapsed": true
   },
   "outputs": [],
   "source": [
    "seasons_and_teams = ALLbyseasons.groupby([\"Category\", \"Team\"]) # Groups by specific season/offseason, then by team"
   ]
  },
  {
   "cell_type": "code",
   "execution_count": 117,
   "metadata": {
    "collapsed": true
   },
   "outputs": [],
   "source": [
    "avg_per_seat_price_seasonsandteams = seasons_and_teams[\"Per Seat Price\"].mean() #Takes the average of those transactions"
   ]
  },
  {
   "cell_type": "code",
   "execution_count": 118,
   "metadata": {
    "scrolled": true
   },
   "outputs": [
    {
     "data": {
      "text/plain": [
       "4044.1063492063495"
      ]
     },
     "execution_count": 118,
     "metadata": {},
     "output_type": "execute_result"
    }
   ],
   "source": [
    "avg_per_seat_price_seasonsandteams[\"2013 Offseason\", \"BAL\"] # This is the average price of PSLs after BAL won the SuperBowl."
   ]
  },
  {
   "cell_type": "markdown",
   "metadata": {},
   "source": [
    "*Benchmark 1. Season leading up to that particular offseason.*"
   ]
  },
  {
   "cell_type": "code",
   "execution_count": 119,
   "metadata": {},
   "outputs": [
    {
     "data": {
      "text/plain": [
       "3946.222943722943"
      ]
     },
     "execution_count": 119,
     "metadata": {},
     "output_type": "execute_result"
    }
   ],
   "source": [
    "avg_per_seat_price_seasonsandteams[\"2012 Season\", \"BAL\"] # This is the average price of PSLs before BAL won the SuperBowl."
   ]
  },
  {
   "cell_type": "code",
   "execution_count": 120,
   "metadata": {},
   "outputs": [
    {
     "data": {
      "text/plain": [
       "True"
      ]
     },
     "execution_count": 120,
     "metadata": {},
     "output_type": "execute_result"
    }
   ],
   "source": [
    "avg_per_seat_price_seasonsandteams[\"2013 Offseason\", \"BAL\"] > avg_per_seat_price_seasonsandteams[\"2012 Season\", \"BAL\"]"
   ]
  },
  {
   "cell_type": "code",
   "execution_count": 121,
   "metadata": {},
   "outputs": [
    {
     "data": {
      "text/plain": [
       "97.883405483406477"
      ]
     },
     "execution_count": 121,
     "metadata": {},
     "output_type": "execute_result"
    }
   ],
   "source": [
    "avg_per_seat_price_seasonsandteams[\"2013 Offseason\", \"BAL\"] - avg_per_seat_price_seasonsandteams[\"2012 Season\", \"BAL\"]\n",
    "\n",
    "# The average PSL price for Baltimore grew by nearly 100 dollars after they won the Superbowl."
   ]
  },
  {
   "cell_type": "markdown",
   "metadata": {},
   "source": [
    "*Benchmark 2. Team's average PSL price across all transactions and years (Analysis 1)*"
   ]
  },
  {
   "cell_type": "code",
   "execution_count": 122,
   "metadata": {},
   "outputs": [
    {
     "data": {
      "text/plain": [
       "3087.0853655118299"
      ]
     },
     "execution_count": 122,
     "metadata": {},
     "output_type": "execute_result"
    }
   ],
   "source": [
    "avg_per_seat_price[\"BAL\"] # This is the average price of a BAL PSL across all transactions."
   ]
  },
  {
   "cell_type": "code",
   "execution_count": 123,
   "metadata": {},
   "outputs": [
    {
     "data": {
      "text/plain": [
       "True"
      ]
     },
     "execution_count": 123,
     "metadata": {},
     "output_type": "execute_result"
    }
   ],
   "source": [
    "avg_per_seat_price_seasonsandteams[\"2013 Offseason\", \"BAL\"] > avg_per_seat_price[\"BAL\"]"
   ]
  },
  {
   "cell_type": "code",
   "execution_count": 124,
   "metadata": {},
   "outputs": [
    {
     "data": {
      "text/plain": [
       "957.0209836945196"
      ]
     },
     "execution_count": 124,
     "metadata": {},
     "output_type": "execute_result"
    }
   ],
   "source": [
    "avg_per_seat_price_seasonsandteams[\"2013 Offseason\", \"BAL\"] - avg_per_seat_price[\"BAL\"]\n",
    "\n",
    "# The average PSL for Baltimore in the offseason after they won the Superbowl is 957 dollars more than the team average."
   ]
  },
  {
   "cell_type": "markdown",
   "metadata": {},
   "source": [
    "*Benchmark 3. The average price across the team's offseasons.*"
   ]
  },
  {
   "cell_type": "code",
   "execution_count": 125,
   "metadata": {
    "scrolled": false
   },
   "outputs": [
    {
     "data": {
      "text/plain": [
       "3125.0837079854432"
      ]
     },
     "execution_count": 125,
     "metadata": {},
     "output_type": "execute_result"
    }
   ],
   "source": [
    "avg_per_seat_price_inoroffseason_teams[\"Offseason\", \"BAL\"] # This is the average across BAL's off-season prices."
   ]
  },
  {
   "cell_type": "code",
   "execution_count": 126,
   "metadata": {
    "scrolled": true
   },
   "outputs": [
    {
     "data": {
      "text/plain": [
       "True"
      ]
     },
     "execution_count": 126,
     "metadata": {},
     "output_type": "execute_result"
    }
   ],
   "source": [
    "avg_per_seat_price_seasonsandteams[\"2013 Offseason\", \"BAL\"] > avg_per_seat_price_inoroffseason_teams[\"Offseason\", \"BAL\"]"
   ]
  },
  {
   "cell_type": "code",
   "execution_count": 127,
   "metadata": {},
   "outputs": [
    {
     "data": {
      "text/plain": [
       "919.02264122090628"
      ]
     },
     "execution_count": 127,
     "metadata": {},
     "output_type": "execute_result"
    }
   ],
   "source": [
    "avg_per_seat_price_seasonsandteams[\"2013 Offseason\", \"BAL\"] - avg_per_seat_price_inoroffseason_teams[\"Offseason\", \"BAL\"]\n",
    "\n",
    "# The average PSL for Baltimore in the offseason after they won the superbowl is 919 dollars more than \n",
    "# their regular offseason average."
   ]
  },
  {
   "cell_type": "markdown",
   "metadata": {},
   "source": [
    "**Conclusion from Case Study:** It appears that Baltimore's SuperBowl win had a great positive impact on the team's PSL prices."
   ]
  },
  {
   "cell_type": "markdown",
   "metadata": {},
   "source": [
    "### Does this prove true for the others Superbowl Champions in our sample?"
   ]
  },
  {
   "cell_type": "code",
   "execution_count": 128,
   "metadata": {
    "collapsed": true
   },
   "outputs": [],
   "source": [
    "SBChamps = pd.DataFrame({\n",
    "    \"Team\": [\"NYG\", \"SEA\", \"PHI\"],\n",
    "    \"1Avg_During\": [avg_per_seat_price_seasonsandteams[\"2011 Season\", \"NYG\"],\n",
    "                  avg_per_seat_price_seasonsandteams[\"2013 Season\", \"SEA\"],\n",
    "                  avg_per_seat_price_seasonsandteams[\"2017 Season\", \"PHI\"]],\n",
    "    \"0Avg_After\": [avg_per_seat_price_seasonsandteams[\"2012 Offseason\", \"NYG\"],\n",
    "                 avg_per_seat_price_seasonsandteams[\"2014 Offseason\", \"SEA\"],\n",
    "                 avg_per_seat_price_seasonsandteams[\"2018 Offseason\", \"PHI\"]],\n",
    "    \"2Avg_ALL\": [avg_per_seat_price[\"NYG\"],\n",
    "                avg_per_seat_price[\"SEA\"],\n",
    "                avg_per_seat_price[\"PHI\"]],\n",
    "    \"3Avg_Offseason\": [avg_per_seat_price_inoroffseason_teams[\"Offseason\", \"NYG\"],\n",
    "               avg_per_seat_price_inoroffseason_teams[\"Offseason\", \"SEA\"],\n",
    "               avg_per_seat_price_inoroffseason_teams[\"Offseason\", \"PHI\"]], \n",
    "}) # Created a data frame for the relevant teams and benchmarks"
   ]
  },
  {
   "cell_type": "code",
   "execution_count": 129,
   "metadata": {
    "scrolled": true
   },
   "outputs": [
    {
     "data": {
      "text/html": [
       "<div>\n",
       "<style scoped>\n",
       "    .dataframe tbody tr th:only-of-type {\n",
       "        vertical-align: middle;\n",
       "    }\n",
       "\n",
       "    .dataframe tbody tr th {\n",
       "        vertical-align: top;\n",
       "    }\n",
       "\n",
       "    .dataframe thead th {\n",
       "        text-align: right;\n",
       "    }\n",
       "</style>\n",
       "<table border=\"1\" class=\"dataframe\">\n",
       "  <thead>\n",
       "    <tr style=\"text-align: right;\">\n",
       "      <th></th>\n",
       "      <th>0Avg_After</th>\n",
       "      <th>1Avg_During</th>\n",
       "      <th>2Avg_ALL</th>\n",
       "      <th>3Avg_Offseason</th>\n",
       "    </tr>\n",
       "    <tr>\n",
       "      <th>Team</th>\n",
       "      <th></th>\n",
       "      <th></th>\n",
       "      <th></th>\n",
       "      <th></th>\n",
       "    </tr>\n",
       "  </thead>\n",
       "  <tbody>\n",
       "    <tr>\n",
       "      <th>NYG</th>\n",
       "      <td>4377.750929</td>\n",
       "      <td>4530.638889</td>\n",
       "      <td>3359.844443</td>\n",
       "      <td>3244.305239</td>\n",
       "    </tr>\n",
       "    <tr>\n",
       "      <th>SEA</th>\n",
       "      <td>12305.355263</td>\n",
       "      <td>11107.500000</td>\n",
       "      <td>11746.781466</td>\n",
       "      <td>11609.051913</td>\n",
       "    </tr>\n",
       "    <tr>\n",
       "      <th>PHI</th>\n",
       "      <td>8069.871795</td>\n",
       "      <td>6596.793651</td>\n",
       "      <td>5437.813659</td>\n",
       "      <td>5414.450592</td>\n",
       "    </tr>\n",
       "  </tbody>\n",
       "</table>\n",
       "</div>"
      ],
      "text/plain": [
       "        0Avg_After   1Avg_During      2Avg_ALL  3Avg_Offseason\n",
       "Team                                                          \n",
       "NYG    4377.750929   4530.638889   3359.844443     3244.305239\n",
       "SEA   12305.355263  11107.500000  11746.781466    11609.051913\n",
       "PHI    8069.871795   6596.793651   5437.813659     5414.450592"
      ]
     },
     "execution_count": 129,
     "metadata": {},
     "output_type": "execute_result"
    }
   ],
   "source": [
    "SBChamps.set_index(\"Team\")"
   ]
  },
  {
   "cell_type": "markdown",
   "metadata": {},
   "source": [
    "**Conclusion:** Seattle and Philadelphia proved the same outcome as Baltimore, where the average price after their championship win was higher than the average leading up to the win (Benchmark 1), the average of all the team's transactions (Benchmark 2) and the average of all the team's offseason transactions (Benchmark 3). However, the NYG did not follow the same trend; in fact, the price of their PSLs decreased after their Superbowl win from the average that season."
   ]
  },
  {
   "cell_type": "markdown",
   "metadata": {},
   "source": [
    "----\n",
    "\n",
    "## Analysis 4: Impact of All Postseason Performances and Appearances on PSL Prices"
   ]
  },
  {
   "cell_type": "markdown",
   "metadata": {},
   "source": [
    "We will visually analyze the PSL behavior of select teams with prominent postseason appearances throughout this time."
   ]
  },
  {
   "cell_type": "code",
   "execution_count": 130,
   "metadata": {
    "collapsed": true
   },
   "outputs": [],
   "source": [
    "team_analysis = ALLbyseasons.groupby([\"Team\"]) # Groups our sample by team"
   ]
  },
  {
   "cell_type": "markdown",
   "metadata": {},
   "source": [
    "### Baltimore Ravens"
   ]
  },
  {
   "cell_type": "code",
   "execution_count": 131,
   "metadata": {
    "collapsed": true
   },
   "outputs": [],
   "source": [
    "BAL_analysis = team_analysis.get_group(\"BAL\").groupby(\"Category\") # Pulls only team transactions from sample, then groups\n",
    "                                                                    # by year and in-season vs. offseason"
   ]
  },
  {
   "cell_type": "code",
   "execution_count": 132,
   "metadata": {
    "collapsed": true
   },
   "outputs": [],
   "source": [
    "BAL_analysis2 = BAL_analysis[\"Per Seat Price\"].mean() # Takes the average of each year/in-season vs. offseason"
   ]
  },
  {
   "cell_type": "code",
   "execution_count": 133,
   "metadata": {},
   "outputs": [
    {
     "data": {
      "text/plain": [
       "Category\n",
       "2007 Offseason    5002.938791\n",
       "2007 Season       4065.982639\n",
       "2008 Offseason    4199.864428\n",
       "2008 Season       3900.915094\n",
       "2009 Offseason    2918.952439\n",
       "2009 Season       3241.930851\n",
       "2010 Offseason    3468.466270\n",
       "2010 Season       3554.801339\n",
       "2011 Offseason    2901.281061\n",
       "2011 Season       3068.738000\n",
       "2012 Offseason    3777.587753\n",
       "2012 Season       3946.222944\n",
       "2013 Offseason    4044.106349\n",
       "2013 Season       3468.463384\n",
       "2014 Offseason    3453.635753\n",
       "2014 Season       2775.370253\n",
       "2015 Offseason    3359.034508\n",
       "2015 Season       2751.985697\n",
       "2016 Offseason    2373.509798\n",
       "2016 Season       1878.660920\n",
       "2017 Offseason    2039.449941\n",
       "2017 Season       1575.757669\n",
       "2018 Offseason     969.600490\n",
       "Name: Per Seat Price, dtype: float64"
      ]
     },
     "execution_count": 133,
     "metadata": {},
     "output_type": "execute_result"
    }
   ],
   "source": [
    "BAL_analysis2"
   ]
  },
  {
   "cell_type": "code",
   "execution_count": 145,
   "metadata": {},
   "outputs": [
    {
     "data": {
      "image/png": "[encoded data removed]",
      "text/plain": [
       "<matplotlib.figure.Figure at 0x2ae72551d30>"
      ]
     },
     "metadata": {},
     "output_type": "display_data"
    }
   ],
   "source": [
    "seasons = [\"2007Off\", \"2007\", \"2008Off\", \"2008\", \"2009Off\", \"2009\", \"2010Off\", \"2010\", \"2011Off\", \"2011\", \"2012Off\", \"2012\",\n",
    "          \"2013Off\", \"2013\", \"2014Off\", \"2014\", \"2015Off\", \"2015\", \"2016Off\", \"2016\", \"2017Off\", \"2017\", \"2018Off\"]\n",
    "\n",
    "fix, ax = plt.subplots(figsize = (18,5)) # Changes size to fit better on screen\n",
    " \n",
    "ax.bar(BAL_analysis2.index, BAL_analysis2, color = \"navy\") # Base layer\n",
    "\n",
    "ax.bar(BAL_analysis2[BAL_analysis2.index == \"2012 Season\"].index,\n",
    "       BAL_analysis2[BAL_analysis2.index == \"2012 Season\"], color = \"red\") # Highlights Superbowl win\n",
    "                          \n",
    "ax.bar(BAL_analysis2[BAL_analysis2.index == \"2008 Season\"].index,\n",
    "       BAL_analysis2[BAL_analysis2.index == \"2008 Season\"], color = \"green\") # Highlights Conference Appearance\n",
    "\n",
    "ax.bar(BAL_analysis2[BAL_analysis2.index == \"2011 Season\"].index,\n",
    "       BAL_analysis2[BAL_analysis2.index == \"2011 Season\"], color = \"green\") # Highlights Conference Appearance\n",
    "\n",
    "ax.bar(BAL_analysis2[BAL_analysis2.index == \"2009 Season\"].index,\n",
    "       BAL_analysis2[BAL_analysis2.index == \"2009 Season\"], color = \"purple\") # Highlights Division Appearance\n",
    "\n",
    "ax.bar(BAL_analysis2[BAL_analysis2.index == \"2010 Season\"].index,\n",
    "       BAL_analysis2[BAL_analysis2.index == \"2010 Season\"], color = \"purple\") # Highlights Division Appearance\n",
    "\n",
    "ax.bar(BAL_analysis2[BAL_analysis2.index == \"2014 Season\"].index,\n",
    "       BAL_analysis2[BAL_analysis2.index == \"2014 Season\"], color = \"purple\") # Highlights Division Appearance\n",
    "    \n",
    "ax.set_xticklabels(seasons)\n",
    "\n",
    "ax.annotate(\"Red = Superbowl Win\", xy = (18, 4500), color = \"red\") # Identifies what colors indicate on graph\n",
    "ax.annotate(\"Green = Conference Appearance\", xy = (18, 4200), color = \"green\")\n",
    "ax.annotate(\"Purple = Division Appearance\", xy = (18, 3900), color = \"purple\")\n",
    "\n",
    "ax.set_title(\"Relationship between Playoff History and PSL Prices for the Baltimore Ravens\")\n",
    "ax.set_ylabel(\"Average PSL Price\") \n",
    "ax.set_xlabel(\"Season\")\n",
    "\n",
    "ax.spines[\"right\"].set_visible(False) # Removes border from right\n",
    "ax.spines[\"top\"].set_visible(False) # Removes border from top\n",
    "\n",
    "plt.show()"
   ]
  },
  {
   "cell_type": "markdown",
   "metadata": {},
   "source": [
    "**Conclusion:** Inconclusive. While prices do rise after 2009 (Division loss), 2011 (Conference loss) and 2012 (Superbowl win), and 2014 (Division loss), they fall *drastically* after 2008 (Conference loss) and 2010 (Division loss)."
   ]
  },
  {
   "cell_type": "markdown",
   "metadata": {},
   "source": [
    "### Houston Texans"
   ]
  },
  {
   "cell_type": "code",
   "execution_count": 135,
   "metadata": {
    "collapsed": true
   },
   "outputs": [],
   "source": [
    "HOU_analysis = team_analysis.get_group(\"HOU\").groupby(\"Category\") # Pulls only team transactions from sample, then groups\n",
    "                                                                    # by year and in-season vs. offseason"
   ]
  },
  {
   "cell_type": "code",
   "execution_count": 136,
   "metadata": {
    "collapsed": true
   },
   "outputs": [],
   "source": [
    "HOU_analysis2 = HOU_analysis[\"Per Seat Price\"].mean() # Takes the average of each year/in-season vs. offseason"
   ]
  },
  {
   "cell_type": "code",
   "execution_count": 137,
   "metadata": {},
   "outputs": [
    {
     "data": {
      "text/plain": [
       "Category\n",
       "2008 Offseason    2105.388480\n",
       "2008 Season       1860.514925\n",
       "2009 Offseason    1641.366279\n",
       "2009 Season       1731.103604\n",
       "2010 Offseason    1841.852965\n",
       "2010 Season       1788.346774\n",
       "2011 Offseason    1898.296875\n",
       "2011 Season       2460.115333\n",
       "2012 Offseason    3894.341941\n",
       "2012 Season       4980.284553\n",
       "2013 Offseason    5384.090127\n",
       "2013 Season       5878.320875\n",
       "2014 Offseason    5775.511404\n",
       "2014 Season       6136.718750\n",
       "2015 Offseason    5798.111526\n",
       "2015 Season       6052.309309\n",
       "2016 Offseason    5788.705914\n",
       "2016 Season       4602.602234\n",
       "2017 Offseason    4248.242101\n",
       "2017 Season       3325.059295\n",
       "2018 Offseason    2915.496795\n",
       "Name: Per Seat Price, dtype: float64"
      ]
     },
     "execution_count": 137,
     "metadata": {},
     "output_type": "execute_result"
    }
   ],
   "source": [
    "HOU_analysis2"
   ]
  },
  {
   "cell_type": "code",
   "execution_count": 144,
   "metadata": {},
   "outputs": [
    {
     "data": {
      "image/png": "[encoded data removed]",
      "text/plain": [
       "<matplotlib.figure.Figure at 0x2ae71178358>"
      ]
     },
     "metadata": {},
     "output_type": "display_data"
    }
   ],
   "source": [
    "seasons = [\"2008Off\", \"2008\", \"2009Off\", \"2009\", \"2010Off\", \"2010\", \"2011Off\", \"2011\", \"2012Off\", \"2012\",\n",
    "          \"2013Off\", \"2013\", \"2014Off\", \"2014\", \"2015Off\", \"2015\", \"2016Off\", \"2016\", \"2017Off\", \"2017\", \"2018Off\"]\n",
    "\n",
    "fix, ax = plt.subplots(figsize = (18,5)) # Changes size to fit better on screen\n",
    " \n",
    "ax.bar(HOU_analysis2.index, HOU_analysis2, color = \"navy\") # Base layer\n",
    "\n",
    "ax.bar(HOU_analysis2[HOU_analysis2.index == \"2011 Season\"].index,\n",
    "       HOU_analysis2[HOU_analysis2.index == \"2011 Season\"], color = \"purple\") # Highlights Division Appearance\n",
    "\n",
    "ax.bar(HOU_analysis2[HOU_analysis2.index == \"2012 Season\"].index,\n",
    "       HOU_analysis2[HOU_analysis2.index == \"2012 Season\"], color = \"purple\") # Highlights Division Appearance\n",
    "\n",
    "ax.bar(HOU_analysis2[HOU_analysis2.index == \"2016 Season\"].index,\n",
    "       HOU_analysis2[HOU_analysis2.index == \"2016 Season\"], color = \"purple\") # Highlights Division Appearance\n",
    "\n",
    "ax.bar(HOU_analysis2[HOU_analysis2.index == \"2015 Season\"].index,\n",
    "       HOU_analysis2[HOU_analysis2.index == \"2015 Season\"], color = \"orange\") # Highlights Wildcard Appearance\n",
    "    \n",
    "ax.set_xticklabels(seasons)\n",
    "\n",
    "ax.annotate(\"Purple = Division Appearance\", xy = (17, 5400), color = \"purple\") # Identifies what colors indicate on graph\n",
    "ax.annotate(\"Orange = Wild Card Appearance\", xy = (17, 5100), color = \"orange\") \n",
    "\n",
    "ax.set_title(\"Relationship between Playoff History and PSL Prices for the Houston Texans\")\n",
    "ax.set_ylabel(\"Average PSL Price\") \n",
    "ax.set_xlabel(\"Season\")\n",
    "\n",
    "ax.spines[\"right\"].set_visible(False) # Removes border from right\n",
    "ax.spines[\"top\"].set_visible(False) # Removes border from top\n",
    "\n",
    "plt.show()"
   ]
  },
  {
   "cell_type": "markdown",
   "metadata": {},
   "source": [
    "**Conclusion:** Again, inconclusive. Some other factor is not being captured because prices are rising dramatically towards the 2014 season but the Texans do not have postseason performance to show for it."
   ]
  },
  {
   "cell_type": "markdown",
   "metadata": {},
   "source": [
    "### New York Giants"
   ]
  },
  {
   "cell_type": "code",
   "execution_count": 139,
   "metadata": {
    "collapsed": true
   },
   "outputs": [],
   "source": [
    "NYG_analysis = team_analysis.get_group(\"NYG\").groupby(\"Category\")"
   ]
  },
  {
   "cell_type": "code",
   "execution_count": 140,
   "metadata": {
    "collapsed": true
   },
   "outputs": [],
   "source": [
    "NYG_analysis2 = NYG_analysis[\"Per Seat Price\"].mean()"
   ]
  },
  {
   "cell_type": "code",
   "execution_count": 141,
   "metadata": {},
   "outputs": [
    {
     "data": {
      "text/plain": [
       "Category\n",
       "2011 Offseason    3585.625192\n",
       "2011 Season       4530.638889\n",
       "2012 Offseason    4377.750929\n",
       "2012 Season       4459.748428\n",
       "2013 Offseason    3986.786990\n",
       "2013 Season       4618.416667\n",
       "2014 Offseason    2935.426942\n",
       "2014 Season       2623.591954\n",
       "2015 Offseason    2741.052789\n",
       "2015 Season       3416.927288\n",
       "2016 Offseason    2592.143750\n",
       "2016 Season       3049.270588\n",
       "2017 Offseason    3131.460905\n",
       "2017 Season       2950.417614\n",
       "2018 Offseason    2200.272081\n",
       "Name: Per Seat Price, dtype: float64"
      ]
     },
     "execution_count": 141,
     "metadata": {},
     "output_type": "execute_result"
    }
   ],
   "source": [
    "NYG_analysis2"
   ]
  },
  {
   "cell_type": "code",
   "execution_count": 143,
   "metadata": {},
   "outputs": [
    {
     "data": {
      "image/png": "[encoded data removed]",
      "text/plain": [
       "<matplotlib.figure.Figure at 0x2ae70f4bb00>"
      ]
     },
     "metadata": {},
     "output_type": "display_data"
    }
   ],
   "source": [
    "seasons = [\"2011Off\", \"2011\", \"2012Off\", \"2012\",\"2013Off\", \"2013\", \"2014Off\", \"2014\", \"2015Off\", \"2015\", \"2016Off\", \n",
    "           \"2016\", \"2017Off\", \"2017\", \"2018Off\"]\n",
    "\n",
    "fix, ax = plt.subplots(figsize = (18,5)) # Changes size to fit better on screen\n",
    " \n",
    "ax.bar(NYG_analysis2.index, NYG_analysis2, color = \"navy\") # Base layer\n",
    "\n",
    "ax.bar(NYG_analysis2[NYG_analysis2.index == \"2011 Season\"].index,\n",
    "       NYG_analysis2[NYG_analysis2.index == \"2011 Season\"], color = \"red\") # Highlights Superbowl win\n",
    "\n",
    "ax.bar(NYG_analysis2[NYG_analysis2.index == \"2016 Season\"].index,\n",
    "       NYG_analysis2[NYG_analysis2.index == \"2016 Season\"], color = \"orange\") # Highlights Wildcard Appearance\n",
    "    \n",
    "ax.set_xticklabels(seasons)\n",
    "\n",
    "ax.annotate(\"Red = Superbowl Win\", xy = (11.5, 4400), color = \"red\") # Identifies what colors indicate on graph\n",
    "ax.annotate(\"Orange = Wild Card Appearance\", xy = (11.5, 4100), color = \"orange\") \n",
    "\n",
    "ax.set_title(\"Relationship between Playoff History and PSL Prices for the New York Giants\")\n",
    "ax.set_ylabel(\"Average PSL Price\") \n",
    "ax.set_xlabel(\"Season\")\n",
    "\n",
    "ax.spines[\"right\"].set_visible(False) # Removes border from right\n",
    "ax.spines[\"top\"].set_visible(False) # Removes border from top\n",
    "\n",
    "plt.show()"
   ]
  },
  {
   "cell_type": "markdown",
   "metadata": {},
   "source": [
    "**Conclusion:** Prices rose after the Wild card appearance but not after the Superbowl win..... Really not intuitive...."
   ]
  },
  {
   "cell_type": "markdown",
   "metadata": {
    "collapsed": true
   },
   "source": [
    "### Pittsburgh Steelers"
   ]
  },
  {
   "cell_type": "code",
   "execution_count": 146,
   "metadata": {
    "collapsed": true
   },
   "outputs": [],
   "source": [
    "PIT_analysis = team_analysis.get_group(\"PIT\").groupby(\"Category\")"
   ]
  },
  {
   "cell_type": "code",
   "execution_count": 147,
   "metadata": {
    "collapsed": true
   },
   "outputs": [],
   "source": [
    "PIT_analysis2 = PIT_analysis[\"Per Seat Price\"].mean()"
   ]
  },
  {
   "cell_type": "code",
   "execution_count": 148,
   "metadata": {},
   "outputs": [
    {
     "data": {
      "text/plain": [
       "Category\n",
       "2010 Offseason     8260.106183\n",
       "2010 Season       11194.476744\n",
       "2011 Offseason     8024.220370\n",
       "2011 Season        8339.887006\n",
       "2012 Offseason     8540.369444\n",
       "2012 Season        8229.346774\n",
       "2013 Offseason     8369.801136\n",
       "2013 Season        6256.597222\n",
       "2014 Offseason     5165.271766\n",
       "2014 Season        4964.926768\n",
       "2015 Offseason     4587.772096\n",
       "2015 Season        3612.959119\n",
       "2016 Offseason     4245.614539\n",
       "2016 Season        4936.986842\n",
       "2017 Offseason     4791.968701\n",
       "2017 Season        4120.709722\n",
       "2018 Offseason     4138.769900\n",
       "Name: Per Seat Price, dtype: float64"
      ]
     },
     "execution_count": 148,
     "metadata": {},
     "output_type": "execute_result"
    }
   ],
   "source": [
    "PIT_analysis2"
   ]
  },
  {
   "cell_type": "code",
   "execution_count": 162,
   "metadata": {},
   "outputs": [
    {
     "data": {
      "image/png": "[encoded data removed]",
      "text/plain": [
       "<matplotlib.figure.Figure at 0x2ae730706a0>"
      ]
     },
     "metadata": {},
     "output_type": "display_data"
    }
   ],
   "source": [
    "seasons = [\"2010Off\", \"2010\", \"2011Off\", \"2011\", \"2012Off\", \"2012\",\n",
    "          \"2013Off\", \"2013\", \"2014Off\", \"2014\", \"2015Off\", \"2015\", \"2016Off\", \"2016\", \"2017Off\", \"2017\", \"2018Off\"]\n",
    "\n",
    "fix, ax = plt.subplots(figsize = (18,5)) # Changes size to fit better on screen\n",
    " \n",
    "ax.bar(PIT_analysis2.index, PIT_analysis2, color = \"navy\") # Base layer\n",
    "\n",
    "ax.bar(PIT_analysis2[PIT_analysis2.index == \"2010 Season\"].index,\n",
    "       PIT_analysis2[PIT_analysis2.index == \"2010 Season\"], color = \"red\", alpha = 0.5) # Highlights Superbowl LOSS, not win\n",
    "                          \n",
    "ax.bar(PIT_analysis2[PIT_analysis2.index == \"2016 Season\"].index,\n",
    "       PIT_analysis2[PIT_analysis2.index == \"2016 Season\"], color = \"green\") # Highlights Conference Appearance\n",
    "\n",
    "ax.bar(PIT_analysis2[PIT_analysis2.index == \"2015 Season\"].index,\n",
    "       PIT_analysis2[PIT_analysis2.index == \"2015 Season\"], color = \"purple\") # Highlights Division Appearance\n",
    "\n",
    "ax.bar(PIT_analysis2[PIT_analysis2.index == \"2017 Season\"].index,\n",
    "       PIT_analysis2[PIT_analysis2.index == \"2017 Season\"], color = \"purple\") # Highlights Division Appearance\n",
    "\n",
    "ax.bar(PIT_analysis2[PIT_analysis2.index == \"2011 Season\"].index,\n",
    "       PIT_analysis2[PIT_analysis2.index == \"2011 Season\"], color = \"orange\") # Highlights Wildcard Appearance\n",
    "\n",
    "ax.bar(PIT_analysis2[PIT_analysis2.index == \"2014 Season\"].index,\n",
    "       PIT_analysis2[PIT_analysis2.index == \"2014 Season\"], color = \"orange\") # Highlights Wildcard Appearance\n",
    "    \n",
    "ax.set_xticklabels(seasons)\n",
    "\n",
    "ax.annotate(\"Maroon = Superbowl LOSS\", xy = (12, 10000), color = \"maroon\") # Identifies what colors indicate on graph\n",
    "ax.annotate(\"Green = Conference Appearance\", xy = (12, 9400), color = \"green\")\n",
    "ax.annotate(\"Purple = Division Appearance\", xy = (12, 8800), color = \"purple\")\n",
    "ax.annotate(\"Orange = Wild Card Appearance\", xy = (12, 8200), color = \"orange\") \n",
    "\n",
    "ax.set_title(\"Relationship between Playoff History and PSL Prices for the Pittsburgh Steelers\")\n",
    "ax.set_ylabel(\"Average PSL Price\") \n",
    "ax.set_xlabel(\"Season\")\n",
    "\n",
    "ax.spines[\"right\"].set_visible(False) # Removes border from right\n",
    "ax.spines[\"top\"].set_visible(False) # Removes border from top\n",
    "\n",
    "plt.show()"
   ]
  },
  {
   "cell_type": "markdown",
   "metadata": {},
   "source": [
    "**Conclusion:** Again, no clear indication that playoff performances are affecting the Steelers one way or another. Huge decline in 2011 Offseason despite making it to the SuperBowl in 2010. "
   ]
  },
  {
   "cell_type": "markdown",
   "metadata": {},
   "source": [
    "### Seattle Seahawks"
   ]
  },
  {
   "cell_type": "code",
   "execution_count": 163,
   "metadata": {
    "collapsed": true
   },
   "outputs": [],
   "source": [
    "SEA_analysis = team_analysis.get_group(\"SEA\").groupby(\"Category\")"
   ]
  },
  {
   "cell_type": "code",
   "execution_count": 164,
   "metadata": {
    "collapsed": true
   },
   "outputs": [],
   "source": [
    "SEA_analysis2 = SEA_analysis[\"Per Seat Price\"].mean()"
   ]
  },
  {
   "cell_type": "code",
   "execution_count": 165,
   "metadata": {},
   "outputs": [
    {
     "data": {
      "text/plain": [
       "Category\n",
       "2012 Offseason     2929.880952\n",
       "2012 Season        5509.988095\n",
       "2013 Offseason     7442.035088\n",
       "2013 Season       11107.500000\n",
       "2014 Offseason    12305.355263\n",
       "2014 Season       13087.777778\n",
       "2015 Offseason    15962.633333\n",
       "2015 Season       19486.111111\n",
       "2016 Offseason    14451.275362\n",
       "2016 Season       14152.458333\n",
       "2017 Offseason    14650.289855\n",
       "2017 Season       18370.000000\n",
       "2018 Offseason    16900.000000\n",
       "Name: Per Seat Price, dtype: float64"
      ]
     },
     "execution_count": 165,
     "metadata": {},
     "output_type": "execute_result"
    }
   ],
   "source": [
    "SEA_analysis2"
   ]
  },
  {
   "cell_type": "code",
   "execution_count": 179,
   "metadata": {},
   "outputs": [
    {
     "data": {
      "image/png": "[encoded data removed]",
      "text/plain": [
       "<matplotlib.figure.Figure at 0x2ae724aaa20>"
      ]
     },
     "metadata": {},
     "output_type": "display_data"
    }
   ],
   "source": [
    "seasons = [\"2012Off\", \"2012\",\"2013Off\", \"2013\", \"2014Off\", \"2014\", \"2015Off\",\n",
    "           \"2015\", \"2016Off\", \"2016\", \"2017Off\", \"2017\", \"2018Off\"]\n",
    "\n",
    "fix, ax = plt.subplots(figsize = (18,5)) # Changes size to fit better on screen\n",
    " \n",
    "ax.bar(SEA_analysis2.index, SEA_analysis2, color = \"navy\") # Base layer\n",
    "\n",
    "ax.bar(SEA_analysis2[SEA_analysis2.index == \"2013 Season\"].index,\n",
    "       SEA_analysis2[SEA_analysis2.index == \"2013 Season\"], color = \"red\") # Highlights Superbowl Win\n",
    "\n",
    "ax.bar(SEA_analysis2[SEA_analysis2.index == \"2014 Season\"].index,\n",
    "       SEA_analysis2[SEA_analysis2.index == \"2014 Season\"], color = \"red\") # Highlights Superbowl Win\n",
    "\n",
    "ax.bar(SEA_analysis2[SEA_analysis2.index == \"2012 Season\"].index,\n",
    "       SEA_analysis2[SEA_analysis2.index == \"2012 Season\"], color = \"purple\") # Highlights Division Appearance\n",
    "\n",
    "ax.bar(SEA_analysis2[SEA_analysis2.index == \"2015 Season\"].index,\n",
    "       SEA_analysis2[SEA_analysis2.index == \"2015 Season\"], color = \"purple\") # Highlights Division Appearance\n",
    "\n",
    "ax.bar(SEA_analysis2[SEA_analysis2.index == \"2016 Season\"].index,\n",
    "       SEA_analysis2[SEA_analysis2.index == \"2016 Season\"], color = \"purple\") # Highlights Division Appearance\n",
    "    \n",
    "ax.set_xticklabels(seasons)\n",
    "\n",
    "ax.annotate(\"Red = Superbowl Win\", xy = (0, 17000), color = \"Red\") # Identifies what colors indicate on graph\n",
    "ax.annotate(\"Purple = Division Appearance\", xy = (0, 16000), color = \"purple\")\n",
    "\n",
    "ax.set_title(\"Relationship between Playoff History and PSL Prices for the Seattle Seahawks\")\n",
    "ax.set_ylabel(\"Average PSL Price\") \n",
    "ax.set_xlabel(\"Season\")\n",
    "\n",
    "ax.spines[\"right\"].set_visible(False) # Removes border from right\n",
    "ax.spines[\"top\"].set_visible(False) # Removes border from top\n",
    "\n",
    "plt.show()"
   ]
  },
  {
   "cell_type": "markdown",
   "metadata": {},
   "source": [
    "**Conclusion:** The Seattle Seahawks most closely resemble our originaly hypothesis, where postseason appearances cause PSL prices to increase in the following offseason. However, even with this model team, we see that PSL prices drastically fell in the 2016 offseason despite their division appearance."
   ]
  },
  {
   "cell_type": "markdown",
   "metadata": {},
   "source": [
    "----\n",
    "\n",
    "## Conclusion: Summary and Discussion"
   ]
  },
  {
   "cell_type": "markdown",
   "metadata": {},
   "source": [
    "This project sought to determine how on-field performance during the NFL post-season, specifically Superbowl wins, affect secondary market sales of NFL personal seat licenses (PSLs). To summarize:\n",
    "\n",
    "**Analysis 1: There is a large discrepancy between the average prices of various NFL teams.**\n",
    "\n",
    "The relatively high prices of Seattle Seahawks PSLs led us to believe differences could be attributed to the quality of on-field performance.\n",
    "\n",
    "**Analysis 2: Average prices in the off-season are higher than the average prices during seasons.**\n",
    "\n",
    "The higher prices in the offseason again prompt us to consider post-season performance as the factor driving up sales prices.\n",
    "\n",
    "**Analysis 3: The PSLs for 3 out of 4 teams were more expensive following SuperBowl win.**\n",
    "\n",
    "The average prices for the Baltimore Ravens, Philadelpha Eagles and Seattle Seahawks were higher than the average of the season leading up to the win (Benchmark 1), the average of all the team's transactions (Benchmark 2) and the average of all the team's offseason transactions (Benchmark 3). However, the price of New York Giants PSLs actually decreased after winning the SuperBowl. This led to the consideration that the effect of post-season performances is not as clear-cut as hypothesized.\n",
    "\n",
    "**Analysis 4: The impact of post-season performances on PSL prices is inconclusive and has no clear correlation in either direction.**\n",
    "\n",
    "After looking at PSL price behavior following post-season appearances for the Baltimore Ravens, Houston Texans, New York Giants, Pittsburgh Steelers and Seattle Seahawks, there was no clear indication that postseason appearances increased PSL prices of the following postseason.\n"
   ]
  },
  {
   "cell_type": "markdown",
   "metadata": {
    "collapsed": true
   },
   "source": [
    "### Moving Forward...\n",
    "\n",
    "Since I was unable to determine a clear relationship between post-season appearances/performances and PSL prices, it's clear that there must be another factor driving up PSL prices in the offseason and for particular teams. For example, it may not be whether the team qualifies for the playoffs or wins a round but how the fans view the team's ability to win in the future based on its roster and expected off-season moves. "
   ]
  },
  {
   "cell_type": "code",
   "execution_count": null,
   "metadata": {
    "collapsed": true
   },
   "outputs": [],
   "source": []
  }
 ],
 "metadata": {
  "kernelspec": {
   "display_name": "Python 3",
   "language": "python",
   "name": "python3"
  },
  "language_info": {
   "codemirror_mode": {
    "name": "ipython",
    "version": 3
   },
   "file_extension": ".py",
   "mimetype": "text/x-python",
   "name": "python",
   "nbconvert_exporter": "python",
   "pygments_lexer": "ipython3",
   "version": "3.6.3"
  }
 },
 "nbformat": 4,
 "nbformat_minor": 2
}
